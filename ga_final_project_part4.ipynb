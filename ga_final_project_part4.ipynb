{
 "cells": [
  {
   "cell_type": "code",
   "execution_count": 318,
   "metadata": {},
   "outputs": [
    {
     "data": {
      "text/plain": [
       "Text(-80,-20,'[ProPublica https://www.propublica.org/datastore/dataset/amazon-pricing-algorithm-data-set]')"
      ]
     },
     "execution_count": 318,
     "metadata": {},
     "output_type": "execute_result"
    },
    {
     "data": {
      "image/png": "[encoded data removed]",
      "text/plain": [
       "<matplotlib.figure.Figure at 0x1a28f12f98>"
      ]
     },
     "metadata": {},
     "output_type": "display_data"
    }
   ],
   "source": [
    "import matplotlib.pyplot as plt\n",
    "\n",
    "plt.annotate('[ProPublica https://www.propublica.org/datastore/dataset/amazon-pricing-algorithm-data-set]', (0,0),\n",
    "             (-80,-20), fontsize=6, xycoords='axes fraction', textcoords='offset points', va='top')"
   ]
  },
  {
   "cell_type": "markdown",
   "metadata": {},
   "source": [
    "<a id=\"Legend\"></a>\n",
    "### Legend\n",
    "\n",
    "- 250 bestselling products over several weeks\n",
    "- For items that were listed without a shipping price, they were added to the shopping cart and proceeded to checkout where the shipping price was displayed \n",
    "- All of the items that lacked a shipping price were sold by Amazon or sellers in the “Fulfilled by Amazon” program\n",
    "- Once shipping prices were compiled for all vendors, the price was re-calculated to combine price plus shipping for each item and re-ranked the items as they would have been ranked if shipping was included for all items\n",
    "- For all products, sales tax was excluded from the analysis"
   ]
  },
  {
   "cell_type": "code",
   "execution_count": 89,
   "metadata": {
    "collapsed": true
   },
   "outputs": [],
   "source": [
    "import pandas as pd\n",
    "import numpy as np\n",
    "import seaborn as sns\n",
    "import matplotlib.pyplot as plt\n"
   ]
  },
  {
   "cell_type": "code",
   "execution_count": 90,
   "metadata": {
    "collapsed": true
   },
   "outputs": [],
   "source": [
    "url = './data/09-19-Amazon-Ranking-Analysis.csv'"
   ]
  },
  {
   "cell_type": "code",
   "execution_count": 91,
   "metadata": {
    "collapsed": true
   },
   "outputs": [],
   "source": [
    "amazon = pd.read_csv(url, parse_dates = True, index_col='ScrapeDate')"
   ]
  },
  {
   "cell_type": "code",
   "execution_count": 92,
   "metadata": {
    "scrolled": true
   },
   "outputs": [
    {
     "data": {
      "text/html": [
       "<div>\n",
       "<style>\n",
       "    .dataframe thead tr:only-child th {\n",
       "        text-align: right;\n",
       "    }\n",
       "\n",
       "    .dataframe thead th {\n",
       "        text-align: left;\n",
       "    }\n",
       "\n",
       "    .dataframe tbody tr th {\n",
       "        vertical-align: top;\n",
       "    }\n",
       "</style>\n",
       "<table border=\"1\" class=\"dataframe\">\n",
       "  <thead>\n",
       "    <tr style=\"text-align: right;\">\n",
       "      <th></th>\n",
       "      <th>Index</th>\n",
       "      <th>ProductName</th>\n",
       "      <th>ScrapedIndex</th>\n",
       "      <th>ScrapedIndexTrueRank</th>\n",
       "      <th>CorrectedIndexTrueRank</th>\n",
       "      <th>ScrapedIndexPrice</th>\n",
       "      <th>CorrectedPrice</th>\n",
       "      <th>ScrapedIndexVendor</th>\n",
       "      <th>ScrapedIndexVendorType</th>\n",
       "      <th>BBScrapedPrice</th>\n",
       "      <th>BBVendorType</th>\n",
       "      <th>BBVendor</th>\n",
       "      <th>BBCorrectedPrice</th>\n",
       "    </tr>\n",
       "    <tr>\n",
       "      <th>ScrapeDate</th>\n",
       "      <th></th>\n",
       "      <th></th>\n",
       "      <th></th>\n",
       "      <th></th>\n",
       "      <th></th>\n",
       "      <th></th>\n",
       "      <th></th>\n",
       "      <th></th>\n",
       "      <th></th>\n",
       "      <th></th>\n",
       "      <th></th>\n",
       "      <th></th>\n",
       "      <th></th>\n",
       "    </tr>\n",
       "  </thead>\n",
       "  <tbody>\n",
       "    <tr>\n",
       "      <th>2016-06-14</th>\n",
       "      <td>0</td>\n",
       "      <td>#1 BEST Probiotic Supplement - 60 Day Supply w...</td>\n",
       "      <td>2</td>\n",
       "      <td>2</td>\n",
       "      <td>1</td>\n",
       "      <td>20.99</td>\n",
       "      <td>20.99</td>\n",
       "      <td>Supplement Warriors</td>\n",
       "      <td>Other</td>\n",
       "      <td>-1.0</td>\n",
       "      <td>FBA</td>\n",
       "      <td>Sold by Sharp Nutrition and Fulfilled by Amazon.</td>\n",
       "      <td>25.02</td>\n",
       "    </tr>\n",
       "    <tr>\n",
       "      <th>2016-06-14</th>\n",
       "      <td>1</td>\n",
       "      <td>#1 BEST Probiotic Supplement - 60 Day Supply w...</td>\n",
       "      <td>1</td>\n",
       "      <td>1</td>\n",
       "      <td>2</td>\n",
       "      <td>19.99</td>\n",
       "      <td>25.02</td>\n",
       "      <td>Sharp Nutrition</td>\n",
       "      <td>FBA</td>\n",
       "      <td>-1.0</td>\n",
       "      <td>FBA</td>\n",
       "      <td>Sold by Sharp Nutrition and Fulfilled by Amazon.</td>\n",
       "      <td>25.02</td>\n",
       "    </tr>\n",
       "    <tr>\n",
       "      <th>2016-06-27</th>\n",
       "      <td>2</td>\n",
       "      <td>10 Panel Dip Drug Testing Kit, Test for 10 Dif...</td>\n",
       "      <td>1</td>\n",
       "      <td>1</td>\n",
       "      <td>1</td>\n",
       "      <td>3.96</td>\n",
       "      <td>3.96</td>\n",
       "      <td>speedy tests</td>\n",
       "      <td>Other</td>\n",
       "      <td>4.9</td>\n",
       "      <td>FBA</td>\n",
       "      <td>Sold by Michael Minyety and Fulfilled by Amazon.</td>\n",
       "      <td>9.97</td>\n",
       "    </tr>\n",
       "    <tr>\n",
       "      <th>2016-06-27</th>\n",
       "      <td>3</td>\n",
       "      <td>10 Panel Dip Drug Testing Kit, Test for 10 Dif...</td>\n",
       "      <td>2</td>\n",
       "      <td>1</td>\n",
       "      <td>1</td>\n",
       "      <td>3.96</td>\n",
       "      <td>3.96</td>\n",
       "      <td>Drug Abuse Control</td>\n",
       "      <td>Other</td>\n",
       "      <td>4.9</td>\n",
       "      <td>FBA</td>\n",
       "      <td>Sold by Michael Minyety and Fulfilled by Amazon.</td>\n",
       "      <td>9.97</td>\n",
       "    </tr>\n",
       "    <tr>\n",
       "      <th>2016-06-27</th>\n",
       "      <td>4</td>\n",
       "      <td>10 Panel Dip Drug Testing Kit, Test for 10 Dif...</td>\n",
       "      <td>3</td>\n",
       "      <td>1</td>\n",
       "      <td>1</td>\n",
       "      <td>3.96</td>\n",
       "      <td>3.96</td>\n",
       "      <td>Lowest Priced Tests</td>\n",
       "      <td>Other</td>\n",
       "      <td>4.9</td>\n",
       "      <td>FBA</td>\n",
       "      <td>Sold by Michael Minyety and Fulfilled by Amazon.</td>\n",
       "      <td>9.97</td>\n",
       "    </tr>\n",
       "    <tr>\n",
       "      <th>2016-06-27</th>\n",
       "      <td>5</td>\n",
       "      <td>10 Panel Dip Drug Testing Kit, Test for 10 Dif...</td>\n",
       "      <td>11</td>\n",
       "      <td>9</td>\n",
       "      <td>1</td>\n",
       "      <td>3.96</td>\n",
       "      <td>3.96</td>\n",
       "      <td>speedy tests</td>\n",
       "      <td>Other</td>\n",
       "      <td>4.9</td>\n",
       "      <td>FBA</td>\n",
       "      <td>Sold by Michael Minyety and Fulfilled by Amazon.</td>\n",
       "      <td>9.97</td>\n",
       "    </tr>\n",
       "    <tr>\n",
       "      <th>2016-06-27</th>\n",
       "      <td>6</td>\n",
       "      <td>10 Panel Dip Drug Testing Kit, Test for 10 Dif...</td>\n",
       "      <td>5</td>\n",
       "      <td>3</td>\n",
       "      <td>2</td>\n",
       "      <td>6.50</td>\n",
       "      <td>6.50</td>\n",
       "      <td>Uritox, LLC</td>\n",
       "      <td>Other</td>\n",
       "      <td>4.9</td>\n",
       "      <td>FBA</td>\n",
       "      <td>Sold by Michael Minyety and Fulfilled by Amazon.</td>\n",
       "      <td>9.97</td>\n",
       "    </tr>\n",
       "    <tr>\n",
       "      <th>2016-06-27</th>\n",
       "      <td>7</td>\n",
       "      <td>10 Panel Dip Drug Testing Kit, Test for 10 Dif...</td>\n",
       "      <td>6</td>\n",
       "      <td>4</td>\n",
       "      <td>3</td>\n",
       "      <td>7.99</td>\n",
       "      <td>7.99</td>\n",
       "      <td>mynewwhip</td>\n",
       "      <td>Other</td>\n",
       "      <td>4.9</td>\n",
       "      <td>FBA</td>\n",
       "      <td>Sold by Michael Minyety and Fulfilled by Amazon.</td>\n",
       "      <td>9.97</td>\n",
       "    </tr>\n",
       "    <tr>\n",
       "      <th>2016-06-27</th>\n",
       "      <td>8</td>\n",
       "      <td>10 Panel Dip Drug Testing Kit, Test for 10 Dif...</td>\n",
       "      <td>7</td>\n",
       "      <td>5</td>\n",
       "      <td>4</td>\n",
       "      <td>8.49</td>\n",
       "      <td>8.49</td>\n",
       "      <td>ChopShopDeals</td>\n",
       "      <td>Other</td>\n",
       "      <td>4.9</td>\n",
       "      <td>FBA</td>\n",
       "      <td>Sold by Michael Minyety and Fulfilled by Amazon.</td>\n",
       "      <td>9.97</td>\n",
       "    </tr>\n",
       "    <tr>\n",
       "      <th>2016-06-27</th>\n",
       "      <td>9</td>\n",
       "      <td>10 Panel Dip Drug Testing Kit, Test for 10 Dif...</td>\n",
       "      <td>8</td>\n",
       "      <td>6</td>\n",
       "      <td>5</td>\n",
       "      <td>8.99</td>\n",
       "      <td>8.99</td>\n",
       "      <td>American Screening Corporation</td>\n",
       "      <td>Other</td>\n",
       "      <td>4.9</td>\n",
       "      <td>FBA</td>\n",
       "      <td>Sold by Michael Minyety and Fulfilled by Amazon.</td>\n",
       "      <td>9.97</td>\n",
       "    </tr>\n",
       "  </tbody>\n",
       "</table>\n",
       "</div>"
      ],
      "text/plain": [
       "            Index                                        ProductName  \\\n",
       "ScrapeDate                                                             \n",
       "2016-06-14      0  #1 BEST Probiotic Supplement - 60 Day Supply w...   \n",
       "2016-06-14      1  #1 BEST Probiotic Supplement - 60 Day Supply w...   \n",
       "2016-06-27      2  10 Panel Dip Drug Testing Kit, Test for 10 Dif...   \n",
       "2016-06-27      3  10 Panel Dip Drug Testing Kit, Test for 10 Dif...   \n",
       "2016-06-27      4  10 Panel Dip Drug Testing Kit, Test for 10 Dif...   \n",
       "2016-06-27      5  10 Panel Dip Drug Testing Kit, Test for 10 Dif...   \n",
       "2016-06-27      6  10 Panel Dip Drug Testing Kit, Test for 10 Dif...   \n",
       "2016-06-27      7  10 Panel Dip Drug Testing Kit, Test for 10 Dif...   \n",
       "2016-06-27      8  10 Panel Dip Drug Testing Kit, Test for 10 Dif...   \n",
       "2016-06-27      9  10 Panel Dip Drug Testing Kit, Test for 10 Dif...   \n",
       "\n",
       "            ScrapedIndex  ScrapedIndexTrueRank  CorrectedIndexTrueRank  \\\n",
       "ScrapeDate                                                               \n",
       "2016-06-14             2                     2                       1   \n",
       "2016-06-14             1                     1                       2   \n",
       "2016-06-27             1                     1                       1   \n",
       "2016-06-27             2                     1                       1   \n",
       "2016-06-27             3                     1                       1   \n",
       "2016-06-27            11                     9                       1   \n",
       "2016-06-27             5                     3                       2   \n",
       "2016-06-27             6                     4                       3   \n",
       "2016-06-27             7                     5                       4   \n",
       "2016-06-27             8                     6                       5   \n",
       "\n",
       "            ScrapedIndexPrice  CorrectedPrice              ScrapedIndexVendor  \\\n",
       "ScrapeDate                                                                      \n",
       "2016-06-14              20.99           20.99             Supplement Warriors   \n",
       "2016-06-14              19.99           25.02                 Sharp Nutrition   \n",
       "2016-06-27               3.96            3.96                    speedy tests   \n",
       "2016-06-27               3.96            3.96              Drug Abuse Control   \n",
       "2016-06-27               3.96            3.96             Lowest Priced Tests   \n",
       "2016-06-27               3.96            3.96                    speedy tests   \n",
       "2016-06-27               6.50            6.50                     Uritox, LLC   \n",
       "2016-06-27               7.99            7.99                       mynewwhip   \n",
       "2016-06-27               8.49            8.49                   ChopShopDeals   \n",
       "2016-06-27               8.99            8.99  American Screening Corporation   \n",
       "\n",
       "           ScrapedIndexVendorType  BBScrapedPrice BBVendorType  \\\n",
       "ScrapeDate                                                       \n",
       "2016-06-14                  Other            -1.0          FBA   \n",
       "2016-06-14                    FBA            -1.0          FBA   \n",
       "2016-06-27                  Other             4.9          FBA   \n",
       "2016-06-27                  Other             4.9          FBA   \n",
       "2016-06-27                  Other             4.9          FBA   \n",
       "2016-06-27                  Other             4.9          FBA   \n",
       "2016-06-27                  Other             4.9          FBA   \n",
       "2016-06-27                  Other             4.9          FBA   \n",
       "2016-06-27                  Other             4.9          FBA   \n",
       "2016-06-27                  Other             4.9          FBA   \n",
       "\n",
       "                                                    BBVendor  BBCorrectedPrice  \n",
       "ScrapeDate                                                                      \n",
       "2016-06-14  Sold by Sharp Nutrition and Fulfilled by Amazon.             25.02  \n",
       "2016-06-14  Sold by Sharp Nutrition and Fulfilled by Amazon.             25.02  \n",
       "2016-06-27  Sold by Michael Minyety and Fulfilled by Amazon.              9.97  \n",
       "2016-06-27  Sold by Michael Minyety and Fulfilled by Amazon.              9.97  \n",
       "2016-06-27  Sold by Michael Minyety and Fulfilled by Amazon.              9.97  \n",
       "2016-06-27  Sold by Michael Minyety and Fulfilled by Amazon.              9.97  \n",
       "2016-06-27  Sold by Michael Minyety and Fulfilled by Amazon.              9.97  \n",
       "2016-06-27  Sold by Michael Minyety and Fulfilled by Amazon.              9.97  \n",
       "2016-06-27  Sold by Michael Minyety and Fulfilled by Amazon.              9.97  \n",
       "2016-06-27  Sold by Michael Minyety and Fulfilled by Amazon.              9.97  "
      ]
     },
     "execution_count": 92,
     "metadata": {},
     "output_type": "execute_result"
    }
   ],
   "source": [
    "amazon.head(10)"
   ]
  },
  {
   "cell_type": "code",
   "execution_count": 93,
   "metadata": {},
   "outputs": [
    {
     "data": {
      "text/html": [
       "<div>\n",
       "<style>\n",
       "    .dataframe thead tr:only-child th {\n",
       "        text-align: right;\n",
       "    }\n",
       "\n",
       "    .dataframe thead th {\n",
       "        text-align: left;\n",
       "    }\n",
       "\n",
       "    .dataframe tbody tr th {\n",
       "        vertical-align: top;\n",
       "    }\n",
       "</style>\n",
       "<table border=\"1\" class=\"dataframe\">\n",
       "  <thead>\n",
       "    <tr style=\"text-align: right;\">\n",
       "      <th></th>\n",
       "      <th>Index</th>\n",
       "      <th>ProductName</th>\n",
       "      <th>ScrapedIndex</th>\n",
       "      <th>ScrapedIndexTrueRank</th>\n",
       "      <th>CorrectedIndexTrueRank</th>\n",
       "      <th>ScrapedIndexPrice</th>\n",
       "      <th>CorrectedPrice</th>\n",
       "      <th>ScrapedIndexVendor</th>\n",
       "      <th>ScrapedIndexVendorType</th>\n",
       "      <th>BBScrapedPrice</th>\n",
       "      <th>BBVendorType</th>\n",
       "      <th>BBVendor</th>\n",
       "      <th>BBCorrectedPrice</th>\n",
       "    </tr>\n",
       "    <tr>\n",
       "      <th>ScrapeDate</th>\n",
       "      <th></th>\n",
       "      <th></th>\n",
       "      <th></th>\n",
       "      <th></th>\n",
       "      <th></th>\n",
       "      <th></th>\n",
       "      <th></th>\n",
       "      <th></th>\n",
       "      <th></th>\n",
       "      <th></th>\n",
       "      <th></th>\n",
       "      <th></th>\n",
       "      <th></th>\n",
       "    </tr>\n",
       "  </thead>\n",
       "  <tbody>\n",
       "    <tr>\n",
       "      <th>2016-08-30</th>\n",
       "      <td>6963</td>\n",
       "      <td>myBaby SoundSpa Portable</td>\n",
       "      <td>6</td>\n",
       "      <td>6</td>\n",
       "      <td>5</td>\n",
       "      <td>28.36</td>\n",
       "      <td>28.36</td>\n",
       "      <td>Happy Haus</td>\n",
       "      <td>Other</td>\n",
       "      <td>19.99</td>\n",
       "      <td>Amazon</td>\n",
       "      <td>Ships from and sold by Amazon.com.</td>\n",
       "      <td>26.77</td>\n",
       "    </tr>\n",
       "    <tr>\n",
       "      <th>2016-08-30</th>\n",
       "      <td>6964</td>\n",
       "      <td>myBaby SoundSpa Portable</td>\n",
       "      <td>7</td>\n",
       "      <td>7</td>\n",
       "      <td>6</td>\n",
       "      <td>31.11</td>\n",
       "      <td>31.11</td>\n",
       "      <td>MINDeyes</td>\n",
       "      <td>Other</td>\n",
       "      <td>19.99</td>\n",
       "      <td>Amazon</td>\n",
       "      <td>Ships from and sold by Amazon.com.</td>\n",
       "      <td>26.77</td>\n",
       "    </tr>\n",
       "    <tr>\n",
       "      <th>2016-08-30</th>\n",
       "      <td>6965</td>\n",
       "      <td>myBaby SoundSpa Portable</td>\n",
       "      <td>5</td>\n",
       "      <td>5</td>\n",
       "      <td>7</td>\n",
       "      <td>25.20</td>\n",
       "      <td>31.98</td>\n",
       "      <td>Serenity Health &amp; Home Decor</td>\n",
       "      <td>FBA</td>\n",
       "      <td>19.99</td>\n",
       "      <td>Amazon</td>\n",
       "      <td>Ships from and sold by Amazon.com.</td>\n",
       "      <td>26.77</td>\n",
       "    </tr>\n",
       "    <tr>\n",
       "      <th>2016-08-30</th>\n",
       "      <td>6966</td>\n",
       "      <td>myBaby SoundSpa Portable</td>\n",
       "      <td>9</td>\n",
       "      <td>9</td>\n",
       "      <td>8</td>\n",
       "      <td>32.89</td>\n",
       "      <td>32.89</td>\n",
       "      <td>Aurora Store19</td>\n",
       "      <td>Other</td>\n",
       "      <td>19.99</td>\n",
       "      <td>Amazon</td>\n",
       "      <td>Ships from and sold by Amazon.com.</td>\n",
       "      <td>26.77</td>\n",
       "    </tr>\n",
       "    <tr>\n",
       "      <th>2016-08-30</th>\n",
       "      <td>6967</td>\n",
       "      <td>myBaby SoundSpa Portable</td>\n",
       "      <td>10</td>\n",
       "      <td>10</td>\n",
       "      <td>9</td>\n",
       "      <td>33.72</td>\n",
       "      <td>33.72</td>\n",
       "      <td>Tropicaltyphoonllc</td>\n",
       "      <td>Other</td>\n",
       "      <td>19.99</td>\n",
       "      <td>Amazon</td>\n",
       "      <td>Ships from and sold by Amazon.com.</td>\n",
       "      <td>26.77</td>\n",
       "    </tr>\n",
       "    <tr>\n",
       "      <th>2016-08-30</th>\n",
       "      <td>6968</td>\n",
       "      <td>myBaby SoundSpa Portable</td>\n",
       "      <td>11</td>\n",
       "      <td>11</td>\n",
       "      <td>10</td>\n",
       "      <td>34.14</td>\n",
       "      <td>34.14</td>\n",
       "      <td>AMAZIN'</td>\n",
       "      <td>Other</td>\n",
       "      <td>19.99</td>\n",
       "      <td>Amazon</td>\n",
       "      <td>Ships from and sold by Amazon.com.</td>\n",
       "      <td>26.77</td>\n",
       "    </tr>\n",
       "    <tr>\n",
       "      <th>2016-08-30</th>\n",
       "      <td>6969</td>\n",
       "      <td>myBaby SoundSpa Portable</td>\n",
       "      <td>12</td>\n",
       "      <td>12</td>\n",
       "      <td>11</td>\n",
       "      <td>34.98</td>\n",
       "      <td>34.98</td>\n",
       "      <td>Happy Titan</td>\n",
       "      <td>Other</td>\n",
       "      <td>19.99</td>\n",
       "      <td>Amazon</td>\n",
       "      <td>Ships from and sold by Amazon.com.</td>\n",
       "      <td>26.77</td>\n",
       "    </tr>\n",
       "    <tr>\n",
       "      <th>2016-08-30</th>\n",
       "      <td>6970</td>\n",
       "      <td>myBaby SoundSpa Portable</td>\n",
       "      <td>13</td>\n",
       "      <td>13</td>\n",
       "      <td>12</td>\n",
       "      <td>35.00</td>\n",
       "      <td>35.00</td>\n",
       "      <td>DDN INC</td>\n",
       "      <td>Other</td>\n",
       "      <td>19.99</td>\n",
       "      <td>Amazon</td>\n",
       "      <td>Ships from and sold by Amazon.com.</td>\n",
       "      <td>26.77</td>\n",
       "    </tr>\n",
       "    <tr>\n",
       "      <th>2016-08-30</th>\n",
       "      <td>6971</td>\n",
       "      <td>myBaby SoundSpa Portable</td>\n",
       "      <td>8</td>\n",
       "      <td>8</td>\n",
       "      <td>13</td>\n",
       "      <td>31.95</td>\n",
       "      <td>38.73</td>\n",
       "      <td>Marilyn's Galleria</td>\n",
       "      <td>FBA</td>\n",
       "      <td>19.99</td>\n",
       "      <td>Amazon</td>\n",
       "      <td>Ships from and sold by Amazon.com.</td>\n",
       "      <td>26.77</td>\n",
       "    </tr>\n",
       "    <tr>\n",
       "      <th>2016-08-30</th>\n",
       "      <td>6972</td>\n",
       "      <td>myBaby SoundSpa Portable</td>\n",
       "      <td>14</td>\n",
       "      <td>14</td>\n",
       "      <td>14</td>\n",
       "      <td>39.99</td>\n",
       "      <td>39.99</td>\n",
       "      <td>discount showcase</td>\n",
       "      <td>Other</td>\n",
       "      <td>19.99</td>\n",
       "      <td>Amazon</td>\n",
       "      <td>Ships from and sold by Amazon.com.</td>\n",
       "      <td>26.77</td>\n",
       "    </tr>\n",
       "  </tbody>\n",
       "</table>\n",
       "</div>"
      ],
      "text/plain": [
       "            Index               ProductName  ScrapedIndex  \\\n",
       "ScrapeDate                                                  \n",
       "2016-08-30   6963  myBaby SoundSpa Portable             6   \n",
       "2016-08-30   6964  myBaby SoundSpa Portable             7   \n",
       "2016-08-30   6965  myBaby SoundSpa Portable             5   \n",
       "2016-08-30   6966  myBaby SoundSpa Portable             9   \n",
       "2016-08-30   6967  myBaby SoundSpa Portable            10   \n",
       "2016-08-30   6968  myBaby SoundSpa Portable            11   \n",
       "2016-08-30   6969  myBaby SoundSpa Portable            12   \n",
       "2016-08-30   6970  myBaby SoundSpa Portable            13   \n",
       "2016-08-30   6971  myBaby SoundSpa Portable             8   \n",
       "2016-08-30   6972  myBaby SoundSpa Portable            14   \n",
       "\n",
       "            ScrapedIndexTrueRank  CorrectedIndexTrueRank  ScrapedIndexPrice  \\\n",
       "ScrapeDate                                                                    \n",
       "2016-08-30                     6                       5              28.36   \n",
       "2016-08-30                     7                       6              31.11   \n",
       "2016-08-30                     5                       7              25.20   \n",
       "2016-08-30                     9                       8              32.89   \n",
       "2016-08-30                    10                       9              33.72   \n",
       "2016-08-30                    11                      10              34.14   \n",
       "2016-08-30                    12                      11              34.98   \n",
       "2016-08-30                    13                      12              35.00   \n",
       "2016-08-30                     8                      13              31.95   \n",
       "2016-08-30                    14                      14              39.99   \n",
       "\n",
       "            CorrectedPrice            ScrapedIndexVendor  \\\n",
       "ScrapeDate                                                 \n",
       "2016-08-30           28.36                    Happy Haus   \n",
       "2016-08-30           31.11                      MINDeyes   \n",
       "2016-08-30           31.98  Serenity Health & Home Decor   \n",
       "2016-08-30           32.89                Aurora Store19   \n",
       "2016-08-30           33.72            Tropicaltyphoonllc   \n",
       "2016-08-30           34.14                       AMAZIN'   \n",
       "2016-08-30           34.98                   Happy Titan   \n",
       "2016-08-30           35.00                       DDN INC   \n",
       "2016-08-30           38.73            Marilyn's Galleria   \n",
       "2016-08-30           39.99             discount showcase   \n",
       "\n",
       "           ScrapedIndexVendorType  BBScrapedPrice BBVendorType  \\\n",
       "ScrapeDate                                                       \n",
       "2016-08-30                  Other           19.99       Amazon   \n",
       "2016-08-30                  Other           19.99       Amazon   \n",
       "2016-08-30                    FBA           19.99       Amazon   \n",
       "2016-08-30                  Other           19.99       Amazon   \n",
       "2016-08-30                  Other           19.99       Amazon   \n",
       "2016-08-30                  Other           19.99       Amazon   \n",
       "2016-08-30                  Other           19.99       Amazon   \n",
       "2016-08-30                  Other           19.99       Amazon   \n",
       "2016-08-30                    FBA           19.99       Amazon   \n",
       "2016-08-30                  Other           19.99       Amazon   \n",
       "\n",
       "                                      BBVendor  BBCorrectedPrice  \n",
       "ScrapeDate                                                        \n",
       "2016-08-30  Ships from and sold by Amazon.com.             26.77  \n",
       "2016-08-30  Ships from and sold by Amazon.com.             26.77  \n",
       "2016-08-30  Ships from and sold by Amazon.com.             26.77  \n",
       "2016-08-30  Ships from and sold by Amazon.com.             26.77  \n",
       "2016-08-30  Ships from and sold by Amazon.com.             26.77  \n",
       "2016-08-30  Ships from and sold by Amazon.com.             26.77  \n",
       "2016-08-30  Ships from and sold by Amazon.com.             26.77  \n",
       "2016-08-30  Ships from and sold by Amazon.com.             26.77  \n",
       "2016-08-30  Ships from and sold by Amazon.com.             26.77  \n",
       "2016-08-30  Ships from and sold by Amazon.com.             26.77  "
      ]
     },
     "execution_count": 93,
     "metadata": {},
     "output_type": "execute_result"
    }
   ],
   "source": [
    "amazon.tail(10)"
   ]
  },
  {
   "cell_type": "markdown",
   "metadata": {},
   "source": [
    "Number of rows and columns"
   ]
  },
  {
   "cell_type": "code",
   "execution_count": 94,
   "metadata": {},
   "outputs": [
    {
     "data": {
      "text/plain": [
       "(6973, 13)"
      ]
     },
     "execution_count": 94,
     "metadata": {},
     "output_type": "execute_result"
    }
   ],
   "source": [
    "amazon.shape"
   ]
  },
  {
   "cell_type": "markdown",
   "metadata": {},
   "source": [
    "6,973 vendor listings in total "
   ]
  },
  {
   "cell_type": "markdown",
   "metadata": {},
   "source": [
    "Types of data in columns"
   ]
  },
  {
   "cell_type": "code",
   "execution_count": 95,
   "metadata": {
    "scrolled": false
   },
   "outputs": [
    {
     "data": {
      "text/plain": [
       "Index                       int64\n",
       "ProductName                object\n",
       "ScrapedIndex                int64\n",
       "ScrapedIndexTrueRank        int64\n",
       "CorrectedIndexTrueRank      int64\n",
       "ScrapedIndexPrice         float64\n",
       "CorrectedPrice            float64\n",
       "ScrapedIndexVendor         object\n",
       "ScrapedIndexVendorType     object\n",
       "BBScrapedPrice            float64\n",
       "BBVendorType               object\n",
       "BBVendor                   object\n",
       "BBCorrectedPrice          float64\n",
       "dtype: object"
      ]
     },
     "execution_count": 95,
     "metadata": {},
     "output_type": "execute_result"
    }
   ],
   "source": [
    "amazon.dtypes"
   ]
  },
  {
   "cell_type": "markdown",
   "metadata": {},
   "source": [
    "Column labels"
   ]
  },
  {
   "cell_type": "code",
   "execution_count": 96,
   "metadata": {},
   "outputs": [
    {
     "data": {
      "text/plain": [
       "Index(['Index', 'ProductName', 'ScrapedIndex', 'ScrapedIndexTrueRank',\n",
       "       'CorrectedIndexTrueRank', 'ScrapedIndexPrice', 'CorrectedPrice',\n",
       "       'ScrapedIndexVendor', 'ScrapedIndexVendorType', 'BBScrapedPrice',\n",
       "       'BBVendorType', 'BBVendor', 'BBCorrectedPrice'],\n",
       "      dtype='object')"
      ]
     },
     "execution_count": 96,
     "metadata": {},
     "output_type": "execute_result"
    }
   ],
   "source": [
    "amazon.columns"
   ]
  },
  {
   "cell_type": "code",
   "execution_count": 133,
   "metadata": {
    "collapsed": true
   },
   "outputs": [],
   "source": [
    "amazon.drop(['ScrapedIndex', 'fulfillment_by_amazon','not_FBA'], inplace=True)"
   ]
  },
  {
   "cell_type": "code",
   "execution_count": 134,
   "metadata": {
    "collapsed": true
   },
   "outputs": [],
   "source": [
    "amazon.rename(columns={'ProductName':'Product', 'ScrapedIndexTrueRank':'Initial_Rank',\n",
    "                       'CorrectedIndexTrueRank': 'True_Rank', 'ScrapedIndexPrice' : 'Initial_Price',\n",
    "                       'CorrectedPrice':'True_Price', 'ScrapedIndexVendor':'Vendor',\n",
    "                       'ScrapedIndexVendorType': 'Initial_Vendor_Type', 'BBScrapedPrice':'Initial_Vendor_Price',\n",
    "                       'BBVendorType':'Vendor_Type', 'BBVendor':'Vendor_Shipment', 'BBCorrectedPrice' : \n",
    "                       'Vendor_True_Price'}, inplace =True)"
   ]
  },
  {
   "cell_type": "code",
   "execution_count": 135,
   "metadata": {},
   "outputs": [
    {
     "data": {
      "text/plain": [
       "Index(['Index', 'Product', 'ScrapedIndex', 'Initial_Rank', 'True_Rank',\n",
       "       'Initial_Price', 'True_Price', 'Vendor', 'Initial_Vendor_Type',\n",
       "       'Initial_Vendor_Price', 'Vendor_Type', 'Vendor_Shipment',\n",
       "       'Vendor_True_Price'],\n",
       "      dtype='object')"
      ]
     },
     "execution_count": 135,
     "metadata": {},
     "output_type": "execute_result"
    }
   ],
   "source": [
    "amazon.columns"
   ]
  },
  {
   "cell_type": "markdown",
   "metadata": {},
   "source": [
    "Checking for missing data"
   ]
  },
  {
   "cell_type": "code",
   "execution_count": 136,
   "metadata": {
    "scrolled": true
   },
   "outputs": [
    {
     "data": {
      "text/plain": [
       "Index                   0\n",
       "Product                 0\n",
       "ScrapedIndex            0\n",
       "Initial_Rank            0\n",
       "True_Rank               0\n",
       "Initial_Price           0\n",
       "True_Price              0\n",
       "Vendor                  0\n",
       "Initial_Vendor_Type     0\n",
       "Initial_Vendor_Price    0\n",
       "Vendor_Type             0\n",
       "Vendor_Shipment         0\n",
       "Vendor_True_Price       0\n",
       "dtype: int64"
      ]
     },
     "execution_count": 136,
     "metadata": {},
     "output_type": "execute_result"
    }
   ],
   "source": [
    "amazon.isnull().sum()"
   ]
  },
  {
   "cell_type": "markdown",
   "metadata": {},
   "source": [
    "Data is relatively clean; missing various vendors"
   ]
  },
  {
   "cell_type": "code",
   "execution_count": 101,
   "metadata": {},
   "outputs": [],
   "source": [
    "amazon['Vendor_Shipment'].replace(np.nan, 'Missing', inplace=True)"
   ]
  },
  {
   "cell_type": "code",
   "execution_count": 102,
   "metadata": {},
   "outputs": [
    {
     "data": {
      "text/plain": [
       "Index                   0\n",
       "Product                 0\n",
       "ScrapedIndex            0\n",
       "Initial_Rank            0\n",
       "True_Rank               0\n",
       "Initial_Price           0\n",
       "True_Price              0\n",
       "Vendor                  0\n",
       "Initial_Vendor_Type     0\n",
       "Initial_Vendor_Price    0\n",
       "Vendor_Type             0\n",
       "Vendor_Shipment         0\n",
       "Vendor_True_Price       0\n",
       "dtype: int64"
      ]
     },
     "execution_count": 102,
     "metadata": {},
     "output_type": "execute_result"
    }
   ],
   "source": [
    "amazon.isnull().sum()"
   ]
  },
  {
   "cell_type": "markdown",
   "metadata": {},
   "source": [
    "<a id='True Rank Versus Initial Rank'></a>\n",
    "### True Rank Versus Initial Rank\n",
    "\n",
    "- Once shipping prices were compiled for all vendors, the price was re-calculated to combine price plus shipping for each item and re-ranked the items as they would have been ranked if shipping was included for all items\n",
    "\n",
    "**Hypothesis**: Amazon products were ranked higher for the Initial Rank"
   ]
  },
  {
   "cell_type": "code",
   "execution_count": 103,
   "metadata": {},
   "outputs": [
    {
     "data": {
      "image/png": "[encoded data removed]",
      "text/plain": [
       "<matplotlib.figure.Figure at 0x1a1f287400>"
      ]
     },
     "metadata": {},
     "output_type": "display_data"
    }
   ],
   "source": [
    "True_Rank = amazon.loc[:, 'True_Rank']\n",
    "sns.distplot(True_Rank, bins=10, color='b');"
   ]
  },
  {
   "cell_type": "code",
   "execution_count": 104,
   "metadata": {},
   "outputs": [
    {
     "data": {
      "image/png": "[encoded data removed]",
      "text/plain": [
       "<matplotlib.figure.Figure at 0x1a1f287eb8>"
      ]
     },
     "metadata": {},
     "output_type": "display_data"
    }
   ],
   "source": [
    "Initial_Rank = amazon.loc[:, 'Initial_Rank']\n",
    "sns.distplot(Initial_Rank, bins=10, color='g');"
   ]
  },
  {
   "cell_type": "code",
   "execution_count": 132,
   "metadata": {
    "scrolled": false
   },
   "outputs": [
    {
     "data": {
      "image/png": "[encoded data removed]",
      "text/plain": [
       "<matplotlib.figure.Figure at 0x1a1e51c358>"
      ]
     },
     "metadata": {},
     "output_type": "display_data"
    }
   ],
   "source": [
    "amazon.loc[:, ('True_Rank', 'Initial_Rank')].plot(figsize=(10,8), \n",
    "                                                  style={'True_Rank': 'b', 'Initial_Rank': '--g'});"
   ]
  },
  {
   "cell_type": "code",
   "execution_count": 116,
   "metadata": {
    "scrolled": false
   },
   "outputs": [
    {
     "data": {
      "text/plain": [
       "array(['FBA', 'Other', 'Amazon'], dtype=object)"
      ]
     },
     "execution_count": 116,
     "metadata": {},
     "output_type": "execute_result"
    }
   ],
   "source": [
    "amazon.Vendor_Type.unique()"
   ]
  },
  {
   "cell_type": "code",
   "execution_count": 113,
   "metadata": {},
   "outputs": [],
   "source": [
    "Vendor_Type_O_replace = {'Amazon':'Amazon','O':'Other','FBA':'FBA'}\n",
    "amazon['Vendor_Type'].replace(Vendor_Type_O_replace, inplace = True)"
   ]
  },
  {
   "cell_type": "code",
   "execution_count": 114,
   "metadata": {},
   "outputs": [
    {
     "name": "stderr",
     "output_type": "stream",
     "text": [
      "/Users/ginaadduci/anaconda3/lib/python3.6/site-packages/numpy/core/fromnumeric.py:57: FutureWarning: reshape is deprecated and will raise in a subsequent release. Please use .values.reshape(...) instead\n",
      "  return getattr(obj, method)(*args, **kwds)\n"
     ]
    },
    {
     "data": {
      "image/png": "[encoded data removed]",
      "text/plain": [
       "<matplotlib.figure.Figure at 0x1a1de93860>"
      ]
     },
     "metadata": {},
     "output_type": "display_data"
    }
   ],
   "source": [
    "amazon.boxplot('Initial_Rank', 'Vendor_Type');"
   ]
  },
  {
   "cell_type": "code",
   "execution_count": 115,
   "metadata": {},
   "outputs": [
    {
     "name": "stderr",
     "output_type": "stream",
     "text": [
      "/Users/ginaadduci/anaconda3/lib/python3.6/site-packages/numpy/core/fromnumeric.py:57: FutureWarning: reshape is deprecated and will raise in a subsequent release. Please use .values.reshape(...) instead\n",
      "  return getattr(obj, method)(*args, **kwds)\n"
     ]
    },
    {
     "data": {
      "image/png": "[encoded data removed]",
      "text/plain": [
       "<matplotlib.figure.Figure at 0x1a1db822b0>"
      ]
     },
     "metadata": {},
     "output_type": "display_data"
    }
   ],
   "source": [
    "amazon.boxplot('True_Rank', 'Vendor_Type');"
   ]
  },
  {
   "cell_type": "code",
   "execution_count": 68,
   "metadata": {},
   "outputs": [
    {
     "data": {
      "text/plain": [
       "21.559300157751327"
      ]
     },
     "execution_count": 68,
     "metadata": {},
     "output_type": "execute_result"
    }
   ],
   "source": [
    "amazon.True_Rank.mean()"
   ]
  },
  {
   "cell_type": "code",
   "execution_count": 69,
   "metadata": {},
   "outputs": [
    {
     "data": {
      "text/plain": [
       "22.730962283091927"
      ]
     },
     "execution_count": 69,
     "metadata": {},
     "output_type": "execute_result"
    }
   ],
   "source": [
    "amazon.Initial_Rank.mean()"
   ]
  },
  {
   "cell_type": "markdown",
   "metadata": {},
   "source": [
    "<a id='True Price Initial Price'></a>\n",
    "### True Price Versus Initial Price\n",
    "\n",
    "- Once shipping prices were compiled for all vendors, the price was re-calculated to combine price plus shipping for each item and re-ranked the items as they would have been ranked if shipping was included for all items\n",
    "\n",
    "**Hypothesis**: Amazon products were cheaper for the Initial Price"
   ]
  },
  {
   "cell_type": "code",
   "execution_count": 327,
   "metadata": {},
   "outputs": [
    {
     "data": {
      "image/png": "[encoded data removed]",
      "text/plain": [
       "<matplotlib.figure.Figure at 0x1a1e803a90>"
      ]
     },
     "metadata": {},
     "output_type": "display_data"
    }
   ],
   "source": [
    "amazon.hist('Initial_Price', 'Vendor_Type');"
   ]
  },
  {
   "cell_type": "code",
   "execution_count": 123,
   "metadata": {},
   "outputs": [
    {
     "data": {
      "image/png": "[encoded data removed]",
      "text/plain": [
       "<matplotlib.figure.Figure at 0x1a1f9e8e10>"
      ]
     },
     "metadata": {},
     "output_type": "display_data"
    }
   ],
   "source": [
    "amazon.hist('True_Price', 'Vendor_Type');"
   ]
  },
  {
   "cell_type": "code",
   "execution_count": 119,
   "metadata": {},
   "outputs": [
    {
     "data": {
      "text/plain": [
       "55.56763086189539"
      ]
     },
     "execution_count": 119,
     "metadata": {},
     "output_type": "execute_result"
    }
   ],
   "source": [
    "amazon.True_Price.mean()"
   ]
  },
  {
   "cell_type": "code",
   "execution_count": 120,
   "metadata": {},
   "outputs": [
    {
     "data": {
      "text/plain": [
       "54.90489602753425"
      ]
     },
     "execution_count": 120,
     "metadata": {},
     "output_type": "execute_result"
    }
   ],
   "source": [
    "amazon.Initial_Price.mean()"
   ]
  },
  {
   "cell_type": "markdown",
   "metadata": {},
   "source": [
    "<a id='Understanding the Data'></a>\n",
    "### Understanding the Data \n",
    "\n",
    "**Additional Data Pulls**"
   ]
  },
  {
   "cell_type": "code",
   "execution_count": 231,
   "metadata": {},
   "outputs": [
    {
     "data": {
      "text/plain": [
       "Fujifilm INSTAX Mini Instant Film (Rainbow)                                                                                                                                                               154\n",
       "Suncast GHW1732 Resin Wicker Trash Hideaway                                                                                                                                                               115\n",
       "Fiskars 45mm Contour Rotary Cutter (195210-1001)                                                                                                                                                          106\n",
       "K&N 99-5000 Aerosol Recharger Filter Care Service Kit                                                                                                                                                      95\n",
       "Honeywell HT-908 Turbo Force Room Air Circulator Fan                                                                                                                                                       90\n",
       "Sassy Developmental Bumpy Ball                                                                                                                                                                             88\n",
       "Bushnell H2O Waterproof Compact Roof Prism Binocular, Black, 10 x 25-mm                                                                                                                                    87\n",
       "ASUS (RT-AC68U) Wireless-AC1900 Dual-Band Gigabit Router                                                                                                                                                   87\n",
       "K&N KN-204 Motorcycle/Powersports High Performance Oil Filter                                                                                                                                              87\n",
       "Land Lakes Mini Moos Creamer, Half and Half Cups, 192 Count                                                                                                                                                86\n",
       "Fiskars Traditional Bypass Pruning Shears                                                                                                                                                                  84\n",
       "AOC e1659Fwu 16-Inch Ultra Slim 1366x768 Res 200 cd/m2 Brightness USB 3.0-Powered Portable LED Monitor w/ Case                                                                                             84\n",
       "Master Lock 5400D Select Access Key Storage Box with Set-Your-Own Combination Lock, 1-Pack                                                                                                                 82\n",
       "Boon Grass Countertop Drying Rack,Green                                                                                                                                                                    76\n",
       "Dell USB 3.0 Triple Display UltraHD Universal Dock (D3100)                                                                                                                                                 75\n",
       "Culligan WHR-140 Replacement Shower Filter Cartridge for WSH-C125, HSH-C135, ISH-100 Shower Units                                                                                                          75\n",
       "Streamlight 85177 CR123A Lithium Batteries, 12-Pack                                                                                                                                                        74\n",
       "Camco 40055 Brass Water Pressure Regulator - Lead Free                                                                                                                                                     72\n",
       "Kleenex 50606 Hard Roll Towels, 8 x 600ft, 1 3/4\" Core dia, White, 6 Rolls/Carton                                                                                                                          70\n",
       "Brita 10 Cup Everyday BPA Free Water Pitcher with 1 Filter                                                                                                                                                 69\n",
       "Tombow Mono Permanent Adhesive Refills, 3 Pack (62207)                                                                                                                                                     68\n",
       "KIND Bars, Peanut Butter Dark Chocolate + Protein, Gluten Free, 1.4 Ounce Bars, 12 Count                                                                                                                   65\n",
       "Flowtron BK-15D Electronic Insect Killer, 1/2 Acre Coverage                                                                                                                                                63\n",
       "Philips Norelco HQ8 Dual Precision Replacement Heads                                                                                                                                                       63\n",
       "Little Tikes Jump 'n Slide Bouncer                                                                                                                                                                         62\n",
       "Flowmaster 942443 40 Delta Flow Muffler - 2.25 Offset IN / 2.25 Offset OUT - Aggressive Sound                                                                                                              61\n",
       "Lifetime 4428 Height Adjustable Folding Utility Table 48 by 24 Inches White Granite                                                                                                                        59\n",
       "Holmes Dual Blade Twin Window Fan, White                                                                                                                                                                   59\n",
       "Loctite Liquid Professional Super Glue  20-Gram Bottle (1365882)                                                                                                                                           59\n",
       "Little Tikes Spiralin' Seas Waterpark Play Table                                                                                                                                                           58\n",
       "                                                                                                                                                                                                         ... \n",
       "Fitbit One Wireless Activity Plus Sleep Tracker, Black                                                                                                                                                      7\n",
       "Set of 2 Bobbin Box Organizers                                                                                                                                                                              7\n",
       "Rain-X 600001 Windshield Repair Kit                                                                                                                                                                         7\n",
       "Maytag UKF8001 Pur Compatible Refrigerator Water Filter by MORE Pure Filters - MPF15090                                                                                                                     6\n",
       "Wunderbrow Eyebrow Make Up, Brunette                                                                                                                                                                        6\n",
       "Enfagrow Next Step Natural Milk Powder Can, 24 Ounce (Pack of 4)                                                                                                                                            6\n",
       "Canon PowerShot ELPH 170 IS (Blue)                                                                                                                                                                          6\n",
       "High Sierra Access Backpack                                                                                                                                                                                 6\n",
       "Gateway Safety 4699 StarLite Gumballs Safety Glasses, Clear Lens, All Colors Included (Pack of 10)                                                                                                          5\n",
       "Taste of the Wild Dry Dog Food                                                                                                                                                                              5\n",
       "Dragon Touch M8 2016 Edition 8 inch Quad Core Tablet, Android OS, 1GB 16GB, IPS Display, Bluetooth, GPS, HDMI                                                                                               5\n",
       "Sony DVPSR510H DVD Player (Upscaling)                                                                                                                                                                       4\n",
       "Remote-Controlled Dog Shock Collar Lifetime Replacement Guarantee - 1200 FT Range - 4 Modes (Shock Light Vibration & Beep) Safe For All Size Dogs (10Lbs - 100Lbs) - Rechargeable & Waterproof.             4\n",
       "GE RPWFE Refrigerator Water Filter                                                                                                                                                                          4\n",
       "Toshiba Chromebook 2 - 2015 Edition (CB35-C3300) Full HD, Backlit Keyboard                                                                                                                                  4\n",
       "Refrigerator Water Filter Fits Whirlpool W10295370A                                                                                                                                                         3\n",
       "Military Zoom 20-140x70mm Binoculars Matte Black                                                                                                                                                            3\n",
       "Cravegreens Pest Control Ultrasonic Repellent -Electronic Plug -In Repeller for Insects                                                                                                                     3\n",
       "#1 BEST Probiotic Supplement - 60 Day Supply with 100% Moneyback Guarantee - Improve Digestion, Bowel Regularity, & Increase Energy with the Most Potent Probiotic...                                       2\n",
       "Everydrop by Whirlpool Refrigerator Water Filter 4 EDR4RXD2 (Pack of 2)                                                                                                                                     2\n",
       "Apple 85W MagSafe 2 Power Adapter (for MacBook Pro with Retina Display)                                                                                                                                     2\n",
       "Coghlan's 8880 Airstop, 8 mL                                                                                                                                                                                2\n",
       "iPhone 6S Screen Protector, Maxboost Tempered Glass Screen Protector For iPhone 6 6S [3D Touch Compatible] 0.2mm Screen Protection Case Fit 99% Touch Accurate[Lifetime Warranty]- Clear                    2\n",
       "Orgain Organic Protein Plant-Based Powder, Vanilla Bean, 2.03 Pound                                                                                                                                         2\n",
       "Sabrent Premium 4 Port Silver Aluminum USB 3.0 Hub (30\" cable) for iMac, MacBook, MacBook Pro, MacBook Air, Mac Mini, or any PC [Silver] (HB-MAC3)                                                          2\n",
       "Apple AirPort Express Base Station (MC414LL/A)                                                                                                                                                              2\n",
       "2wayz FULL METAL BODY Garden Hose Splitter | Y Ball Valve Connector for Your Soaker Hose, outdoor faucet, sprinkler & drip irrigation systems. Includes: 10 Rubber Washers + 3 Years Guarantee. Enjoy!      2\n",
       "Under Armour Storm Big Logo IV Backpack                                                                                                                                                                     2\n",
       "Samsung Galaxy Tab A 8-Inch Tablet (Wi-Fi)(16 GB, Smoky Titanium)                                                                                                                                           1\n",
       "Fisher-Price The Perfect Potty Ring                                                                                                                                                                         1\n",
       "Name: Product, Length: 250, dtype: int64"
      ]
     },
     "execution_count": 231,
     "metadata": {},
     "output_type": "execute_result"
    }
   ],
   "source": [
    "amazon.loc[:, 'Product'].value_counts()"
   ]
  },
  {
   "cell_type": "code",
   "execution_count": null,
   "metadata": {
    "collapsed": true
   },
   "outputs": [],
   "source": []
  },
  {
   "cell_type": "code",
   "execution_count": 147,
   "metadata": {},
   "outputs": [
    {
     "data": {
      "text/plain": [
       "array(['Sold by Sharp Nutrition and Fulfilled by Amazon.',\n",
       "       'Sold by Michael Minyety and Fulfilled by Amazon.', 'Missing',\n",
       "       'Ships from and sold by Happy DRH.',\n",
       "       'Ships from and sold by Solutions Pest & Lawn.',\n",
       "       'Ships from and sold by Amazon.com.',\n",
       "       'Ships from and sold by Adams Brown Company.',\n",
       "       'Ships from and sold by Amazon.com in easy-to-open packaging.',\n",
       "       'Ships from and sold by Cell Emporium.',\n",
       "       'Sold by Art Naturals and Fulfilled by Amazon.',\n",
       "       'Sold by LuckyLuckyLucky and Fulfilled by Amazon.',\n",
       "       'Sold by Radha Beauty Products and Fulfilled by Amazon.',\n",
       "       'Ships from and sold by PORTABLE GUY.',\n",
       "       'Ships from and sold by Focus Camera.',\n",
       "       'Ships from and sold by Brookstone.',\n",
       "       'Sold by Finelane, USA and Fulfilled by Amazon.',\n",
       "       'Sold by dizzy deals and Fulfilled by Amazon.',\n",
       "       'Sold by Cabinet Hardware 4 Less and Fulfilled by Amazon.',\n",
       "       'Sold by TabletExpress and Fulfilled by Amazon.',\n",
       "       'Sold by Beauty Base and Fulfilled by Amazon.',\n",
       "       'Ships from and sold by GadgetGo.',\n",
       "       'Ships from and sold by Imagine Toys!.',\n",
       "       'Ships from and sold by HE TAO.',\n",
       "       'Ships from and sold by Diabetes Health Supplies.',\n",
       "       'Sold by Deals On Call and Fulfilled by Amazon.',\n",
       "       'Sold by ASF Tashi and Fulfilled by Amazon in easy-to-open packaging.',\n",
       "       'Sold by J5 Tactical Flashlights and Fulfilled by Amazon.',\n",
       "       'Ships from and sold by Petillant.',\n",
       "       'Ships from and sold by El Garaje.',\n",
       "       'Ships from and sold by Gatzies.',\n",
       "       'Ships from and sold by BestPoolBuys.',\n",
       "       'Ships from and sold by ShopChanute.',\n",
       "       'Sold by MORE Pure Filters and Fulfilled by Amazon.',\n",
       "       \"Ships from and sold by Toy N' Gadget.\",\n",
       "       'Ships from and sold by Beach Camera Same Day Shipping.',\n",
       "       'Sold by OZ Medical Supply and Fulfilled by Amazon.',\n",
       "       'Sold by XoomBot and Fulfilled by Amazon.',\n",
       "       'Ships from and sold by Nutrition Depot.',\n",
       "       'Ships from and sold by Tal DG.',\n",
       "       'Sold by KeL Scientific and Fulfilled by Amazon.',\n",
       "       'Sold by Polaris Optics and Fulfilled by Amazon.',\n",
       "       'Ships from and sold by SHEN ZHEN SHI JIA LI PI JU.',\n",
       "       'Ships from and sold by samselectro in easy-to-open packaging.',\n",
       "       'Sold by Pure Water Supplier and Fulfilled by Amazon.',\n",
       "       'Sold by WebDealsDirect and Fulfilled by Amazon.',\n",
       "       'Sold by Esther House and Fulfilled by Amazon.',\n",
       "       'Sold by TECH BUY and Fulfilled by Amazon.',\n",
       "       'Sold by Slim Sharp and Fulfilled by Amazon.',\n",
       "       'Sold by Store4PC and Fulfilled by Amazon.',\n",
       "       'Sold by EverydayPure and Fulfilled by Amazon.',\n",
       "       \"Sold by Accessorie pro's and Fulfilled by Amazon.\",\n",
       "       'Ships from and sold by Cellective-us.',\n",
       "       'Ships from and sold by Eforcity.',\n",
       "       'Sold by New Phase Inc and Fulfilled by Amazon.',\n",
       "       'Sold by Green Web Inc and Fulfilled by Amazon.',\n",
       "       'Ships from and sold by BuyVPC.',\n",
       "       'Sold by CHENGFENGPOLANG and Fulfilled by Amazon.',\n",
       "       'Sold by WORLD WIDE STEREO and Fulfilled by Amazon.',\n",
       "       'Ships from and sold by Clothing & Shoes.',\n",
       "       'Sold by Teen Entrepreneur and Fulfilled by Amazon.',\n",
       "       'Sold by Safe Beginnings and Fulfilled by Amazon.',\n",
       "       'Sold by River Colony Trading and Fulfilled by Amazon.',\n",
       "       'Sold by power-innovation and Fulfilled by Amazon.'], dtype=object)"
      ]
     },
     "execution_count": 147,
     "metadata": {},
     "output_type": "execute_result"
    }
   ],
   "source": [
    "amazon.Vendor_Shipment.unique()"
   ]
  },
  {
   "cell_type": "code",
   "execution_count": 151,
   "metadata": {},
   "outputs": [
    {
     "data": {
      "text/plain": [
       "Ships from and sold by Amazon.com.                                      5293\n",
       "Ships from and sold by Amazon.com in easy-to-open packaging.             495\n",
       "Missing                                                                  164\n",
       "Ships from and sold by El Garaje.                                         86\n",
       "Ships from and sold by PORTABLE GUY.                                      46\n",
       "Ships from and sold by ShopChanute.                                       44\n",
       "Ships from and sold by HE TAO.                                            39\n",
       "Sold by Beauty Base and Fulfilled by Amazon.                              39\n",
       "Sold by CHENGFENGPOLANG and Fulfilled by Amazon.                          32\n",
       "Sold by XoomBot and Fulfilled by Amazon.                                  32\n",
       "Ships from and sold by Gatzies.                                           28\n",
       "Sold by Deals On Call and Fulfilled by Amazon.                            26\n",
       "Ships from and sold by Imagine Toys!.                                     26\n",
       "Ships from and sold by samselectro in easy-to-open packaging.             26\n",
       "Sold by Art Naturals and Fulfilled by Amazon.                             23\n",
       "Sold by Green Web Inc and Fulfilled by Amazon.                            23\n",
       "Ships from and sold by Brookstone.                                        22\n",
       "Sold by TECH BUY and Fulfilled by Amazon.                                 22\n",
       "Ships from and sold by Cell Emporium.                                     21\n",
       "Sold by Teen Entrepreneur and Fulfilled by Amazon.                        21\n",
       "Sold by River Colony Trading and Fulfilled by Amazon.                     20\n",
       "Sold by dizzy deals and Fulfilled by Amazon.                              20\n",
       "Sold by OZ Medical Supply and Fulfilled by Amazon.                        19\n",
       "Ships from and sold by Beach Camera Same Day Shipping.                    18\n",
       "Ships from and sold by Clothing & Shoes.                                  18\n",
       "Sold by EverydayPure and Fulfilled by Amazon.                             17\n",
       "Sold by Michael Minyety and Fulfilled by Amazon.                          17\n",
       "Ships from and sold by Eforcity.                                          16\n",
       "Sold by ASF Tashi and Fulfilled by Amazon in easy-to-open packaging.      16\n",
       "Ships from and sold by GadgetGo.                                          16\n",
       "                                                                        ... \n",
       "Ships from and sold by SHEN ZHEN SHI JIA LI PI JU.                        15\n",
       "Sold by Polaris Optics and Fulfilled by Amazon.                           14\n",
       "Ships from and sold by BuyVPC.                                            14\n",
       "Ships from and sold by Adams Brown Company.                               14\n",
       "Ships from and sold by Cellective-us.                                     13\n",
       "Sold by Accessorie pro's and Fulfilled by Amazon.                         13\n",
       "Ships from and sold by Diabetes Health Supplies.                          13\n",
       "Sold by Esther House and Fulfilled by Amazon.                             12\n",
       "Ships from and sold by Petillant.                                         11\n",
       "Sold by J5 Tactical Flashlights and Fulfilled by Amazon.                  11\n",
       "Sold by KeL Scientific and Fulfilled by Amazon.                           11\n",
       "Sold by WORLD WIDE STEREO and Fulfilled by Amazon.                         9\n",
       "Ships from and sold by Happy DRH.                                          9\n",
       "Sold by LuckyLuckyLucky and Fulfilled by Amazon.                           8\n",
       "Sold by Cabinet Hardware 4 Less and Fulfilled by Amazon.                   8\n",
       "Sold by Safe Beginnings and Fulfilled by Amazon.                           8\n",
       "Sold by Radha Beauty Products and Fulfilled by Amazon.                     8\n",
       "Sold by New Phase Inc and Fulfilled by Amazon.                             7\n",
       "Sold by Slim Sharp and Fulfilled by Amazon.                                7\n",
       "Ships from and sold by Focus Camera.                                       6\n",
       "Sold by MORE Pure Filters and Fulfilled by Amazon.                         6\n",
       "Sold by TabletExpress and Fulfilled by Amazon.                             5\n",
       "Sold by WebDealsDirect and Fulfilled by Amazon.                            4\n",
       "Sold by Pure Water Supplier and Fulfilled by Amazon.                       3\n",
       "Ships from and sold by Toy N' Gadget.                                      3\n",
       "Sold by Finelane, USA and Fulfilled by Amazon.                             3\n",
       "Ships from and sold by Nutrition Depot.                                    2\n",
       "Sold by Sharp Nutrition and Fulfilled by Amazon.                           2\n",
       "Sold by Store4PC and Fulfilled by Amazon.                                  2\n",
       "Sold by power-innovation and Fulfilled by Amazon.                          2\n",
       "Length: 63, dtype: int64"
      ]
     },
     "execution_count": 151,
     "metadata": {},
     "output_type": "execute_result"
    }
   ],
   "source": [
    "Vendor_Shipment_Uniques = pd.value_counts(amazon['Vendor_Shipment'].values)\n",
    "Vendor_Shipment_Uniques"
   ]
  },
  {
   "cell_type": "code",
   "execution_count": 140,
   "metadata": {},
   "outputs": [
    {
     "data": {
      "text/plain": [
       "array([ '#1 BEST Probiotic Supplement - 60 Day Supply with 100% Moneyback Guarantee - Improve Digestion, Bowel Regularity, & Increase Energy with the Most Potent Probiotic...',\n",
       "       '10 Panel Dip Drug Testing Kit, Test for 10 Different Drugs. (1)',\n",
       "       '2wayz FULL METAL BODY Garden Hose Splitter | Y Ball Valve Connector for Your Soaker Hose, outdoor faucet, sprinkler & drip irrigation systems. Includes: 10 Rubber Washers + 3 Years Guarantee. Enjoy!',\n",
       "       '3 Pair Motorcycle Riding Glasses Smoke Clear Yellow',\n",
       "       '3/4 gal Talstar Pro / One Multi Use Pest Control Insecticide (96 ounce jug)',\n",
       "       '303 (30306) Protectant Trigger Sprayer, 32 fl. Oz',\n",
       "       '303 (30313-CSR) Aerospace Protectant Trigger Sprayer, 32 Fl. oz.',\n",
       "       '303 (30606) Fabric Guard Trigger Sprayer, 32 fl. oz.',\n",
       "       '3M Utility Duct Tape 2929 Silver, 1.88 in x 50 yd 5.8 mils (Pack of 1)',\n",
       "       '3M Virtua CCS Protective Eyewear 11872-00000-20, Foam Gasket, Anti Fog Lens, Clear',\n",
       "       '4-Drawer Storage Cart with Organizer Top White',\n",
       "       '8 Piece Tegu Pocket Pouch Magnetic Wooden Block Set',\n",
       "       'AOC e1659Fwu 16-Inch Ultra Slim 1366x768 Res 200 cd/m2 Brightness USB 3.0-Powered Portable LED Monitor w/ Case',\n",
       "       'ARRIS SURFboard SBG6782AC DOCSIS 3.0 Cable Modem/ Wi-Fi AC1800 Router - Retail Packaging - White',\n",
       "       'ASUS (RT-AC68U) Wireless-AC1900 Dual-Band Gigabit Router',\n",
       "       'ASUS F556UA-AS54 15.6-inch Full-HD Laptop (Core i5, 8GB RAM, 256GB SSD) with Windows 10, Icicle Gold',\n",
       "       'ASUS ZenPad S 8 Z580C-B1-BK 8\" 32 GB Tablet',\n",
       "       'Accutire MS-4021B Digital Tire Pressure Gauge',\n",
       "       'Acer G226HQL 21.5-Inch Screen LED Monitor',\n",
       "       'All-Absorb Training Pads 22-inch By 23-inch',\n",
       "       'Allen Sports Tension Bar Bicycle Cross-Bar Adaptor',\n",
       "       'Amcrest ProHD 1080P WiFi Wireless IP Security Camera - 1080P (1920TVL), IP2M-841 (White)',\n",
       "       'American Baby CompanyJersey Knit Fitted Portable/Mini Sheet, Celery',\n",
       "       'Ammex GPNB GlovePlus Black Nitrile Glove, Latex Free, Disposable, Powder Free, Large (Box of 100)',\n",
       "       'Apex REM 15 15-Foot Connector Hose Remnants',\n",
       "       'Apple 5W USB Wall Charger Power Adapter with 1m Lightning Cable for iPhone 5/5c/5s/6/6 Plus',\n",
       "       'Apple 85W MagSafe 2 Power Adapter (for MacBook Pro with Retina Display)',\n",
       "       'Apple AirPort Express Base Station (MC414LL/A)',\n",
       "       'Aroma Housewares ARC-914SBD Digital Cool-Touch Rice Cooker and Food Steamer with Stainless Steel Exterior, Silver',\n",
       "       'ArtNaturals Enhanced Vitamin C Serum with Hyaluronic Acid 1 Oz - Top Anti Wrinkle, Anti Aging & Repairs Dark Circles, Fades age spots & Sun Damage - 20% Vitamin C Super...',\n",
       "       \"Aunt Martha's 2-Pack Standard Size Pillowcases, White\",\n",
       "       'Authentic SSOCC Replacement Coil 0.5ohm 5pc/pack',\n",
       "       'BEST VITAMIN C Serum for Face - 2 fl. oz - 20% organic Vit C + E + Hyaluronic Acid - Professional Facial Skin Care Formula that helps Repair Sun Damage and Fade Age Spots -...',\n",
       "       'BISSELL 9595A Vacuum with OnePass',\n",
       "       'BLACK + DECKER CHV1410L 16 volt Lithium Cordless Dust Buster Hand Vac',\n",
       "       'Bai Rainforest Variety Pack, 5 Calories, No Artificial Sweeteners, 1g Sugar, Antioxidant Infused Beverage',\n",
       "       'Bayer Advantage II Flea Control Treatment for Cats',\n",
       "       'Beadaholique 100 Count Resealable Zipper Poly Bags 2 by 2-Inch 50mm by 50mm Clear',\n",
       "       'Berwick Splendorette Crimped Curling Ribbon, 3/16-Inch Wide by 500-Yard Spool, White',\n",
       "       'Bio-Oil 4.2oz: Multiuse Skincare Oil',\n",
       "       'Biore Deep Cleansing Pore Strips, 24 Count',\n",
       "       'Black+Decker BDH2000PL MAX Lithium Pivot Vacuum, 20-volt',\n",
       "       'Boon Grass Countertop Drying Rack,Green',\n",
       "       'Boon Pipes Water Pipes Bath Toy',\n",
       "       'Brawny Pick-A-Size Paper Towels, 24 Giant Rolls',\n",
       "       'Brica Seat Guardian Car Seat Protector',\n",
       "       'Brita 10 Cup Everyday BPA Free Water Pitcher with 1 Filter',\n",
       "       \"Burt's Bees Mama Bee Belly Butter, 6.5 Ounce Tub\",\n",
       "       'Bushnell H2O Waterproof Compact Roof Prism Binocular, Black, 10 x 25-mm',\n",
       "       'Bushnell Marine 7x50  Binocular',\n",
       "       'Bushnell Powerview 7-15X25 Compact Zoom Binocular',\n",
       "       'CURT 21510 Coated Hitch Pin and Clip',\n",
       "       'Camco 22783 TastePURE Drinking Water Hose (5/8\"ID x 25\\') - Lead Free',\n",
       "       'Camco 22853 Premium Drinking Water Hose (5/8\"ID x 50\\') - Lead Free',\n",
       "       'Camco 40055 Brass Water Pressure Regulator - Lead Free',\n",
       "       'Camco 42805 60\" x 78\" Handy Mat with Strap',\n",
       "       'Canon PowerShot ELPH 170 IS (Blue)',\n",
       "       'Carlisle 36141503 Duo-Pan Dustpan & Lobby Broom Combo, 3 Foot Overall Height, Black',\n",
       "       'Celestron 127EQ PowerSeeker Telescope',\n",
       "       'Celestron 71008 SkyMaster 25x70 Binoculars (Black)',\n",
       "       'Celestron 71404 TrailSeeker 8x42 Binoculars (Army Green)',\n",
       "       \"Coghlan's 8880 Airstop, 8 mL\",\n",
       "       'Coleman Oversized Quad Chair with Cooler',\n",
       "       'Comfort Zone Feliway Refills',\n",
       "       'Cravegreens Pest Control Ultrasonic Repellent -Electronic Plug -In Repeller for Insects',\n",
       "       'Crest 3D White Whitestrips Professional Effects - Teeth Whitening Kit 20 Treatments (Packaging May Vary)',\n",
       "       'Culligan WHR-140 Replacement Shower Filter Cartridge for WSH-C125, HSH-C135, ISH-100 Shower Units',\n",
       "       'Dell E2015HV 20-Inch Screen LED-Lit Monitor',\n",
       "       'Dell USB 3.0 Triple Display UltraHD Universal Dock (D3100)',\n",
       "       'Delta Children 4 Pocket Hanging Wall Organizer Beige',\n",
       "       'Designers Impressions Satin Nickel Spring Door Stop w/ Rubber Bumper: 1688 - 10 Pack',\n",
       "       'Dragon Touch M8 2016 Edition 8 inch Quad Core Tablet, Android OS, 1GB 16GB, IPS Display, Bluetooth, GPS, HDMI',\n",
       "       'Dream Drawer Organizer-Set of 2 White Spring-Loaded Drawer Dividers',\n",
       "       'Dritz 222 5/8-Inch by 20-Yard Stitch Witchery, Regular',\n",
       "       'Duck Brand 299006 3/4-Inch by 60 Feet Utility Vinyl Electrical Tape with Single Roll, Black',\n",
       "       'Dynarex 1113 Latex Free Sterile Alcohol Prep Pad (Box of 200)',\n",
       "       'Dynarex Disposable Underpad, 17 inches X 24 inches, 100 Count',\n",
       "       'Dynarex SafeTouch Nitrile Exam Gloves, Non Latex, Powder-Free, Medium, Box/100',\n",
       "       'Elizavecca milkypiggy Hell-Pore Clean Up nose Mask, liquid type nose pack (100ml)',\n",
       "       'Enfagrow Next Step Natural Milk Powder Can, 24 Ounce (Pack of 4)',\n",
       "       'Everydrop by Whirlpool Refrigerator Water Filter 4 EDR4RXD2 (Pack of 2)',\n",
       "       'Fancy Feast Wet Cat Food',\n",
       "       \"Fisher-Price Newborn Auto Rock 'n Play Sleeper, Aqua Stone Fashion\",\n",
       "       'Fisher-Price The Perfect Potty Ring',\n",
       "       'Fiskars 45mm Contour Rotary Cutter (195210-1001)',\n",
       "       'Fiskars Traditional Bypass Pruning Shears',\n",
       "       'Fitbit One Wireless Activity Plus Sleep Tracker, Black',\n",
       "       'Flowmaster 942443 40 Delta Flow Muffler - 2.25 Offset IN / 2.25 Offset OUT - Aggressive Sound',\n",
       "       'Flowtron BK-15D Electronic Insect Killer, 1/2 Acre Coverage',\n",
       "       'Fujifilm INSTAX Mini Instant Film (Rainbow)',\n",
       "       'GE RPWFE Refrigerator Water Filter',\n",
       "       'GOOACC 8mm 40 Pcs / Pack Nylon Bumper Retainer Fender Flare Mud Flaps Guard Fastener Rivet Clips For Honda 450r ltr450 Yfz450 Rubicon Rancher Foreman Polari ATV Trail Boss Predator Scrambler Sportsman Kawasaki Brute Force Bayou Prairie KFX700 KFX450 KFX400 Suzuki Eiger Ozark 450r Z250 Z400 Ltr450 Ds450 Yfz450 Outlaw Vinson KingQuad',\n",
       "       'GREENIES Original Dental Dog Treats',\n",
       "       'GREENIES Pill Pocket Soft Dog Treats',\n",
       "       'Gateway Safety 4699 StarLite Gumballs Safety Glasses, Clear Lens, All Colors Included (Pack of 10)',\n",
       "       'Gazillion 67.6 ounces Bubble Solution',\n",
       "       'Generic Magic Cleaning Eraser Sponge Melamine Foam High Quality 90 X 60 X 30mm (Pack Of 30)',\n",
       "       'Georgia-Pacific Envision 19880/01 White 2-Ply Embossed Bathroom Tissue, 4.05\" Length x 4\" Width (Case of 80 Rolls)',\n",
       "       'Georgia-Pacific enMotion 894-60 800\\' Length x 10\" Width, White High Capacity Touchless Roll Towel (Roll of 6)',\n",
       "       'Gerber Birdseye 3-Ply Prefold Cloth Diapers',\n",
       "       'Gibraltar E1100B00 Standard Size Galvanized Steel Rural Mailbox, Black',\n",
       "       'Glad OdorShield Tall Kitchen Drawstring Trash Bags, Lavender, 13 Gallon, 80 Count',\n",
       "       'Graco Highback Turbobooster Car Seat, Go Green',\n",
       "       'Green Mountain Coffee Caramel Vanilla Cream, K-Cup Portion Count for Keurig K-Cup Brewers, 24-Count',\n",
       "       'HP 15-ay011nr 15.6\" Full-HD Laptop (6th Generation Core i5, 8GB RAM, 1TB HDD) with Windows 10',\n",
       "       'Hakko 599B-02 Solder Tip Cleaning Wire and Holder',\n",
       "       'High Sierra Access Backpack',\n",
       "       'Holmes Dual Blade Twin Window Fan, White',\n",
       "       'Honeywell HT-908 Turbo Force Room Air Circulator Fan',\n",
       "       'Huggies Snug and Dry Diapers, Size 2, Economy Plus Pack, 246 Count (One Month Supply)',\n",
       "       'Huggies Snug and Dry Diapers, Size 4, Economy Plus Pack, 192 Count',\n",
       "       'Hydro Tools 8051 Promotional 4-Foot Telescopic Pool Skimmer',\n",
       "       'IRWIN Tools VISE-GRIP Multi Tool Stripper, Cutter and Crimper, 8-Inch (2078309)',\n",
       "       'Instant Pot IP-DUO60 7-in-1 Multi-Functional Pressure Cooker, 6Qt/1000W',\n",
       "       'Inteplast Group THW1VAL 12.5 Mic Thickness, Thank You Bag (Case of 900)',\n",
       "       'International Leisure Giant Swan, 75 inches',\n",
       "       'Intex Easy Set 10-Foot Round Pool Cover',\n",
       "       'Intex Floating Recliner Inflatable Lounge, 71\" X 53\"',\n",
       "       'Intex King Kool Inflatable Lounge, 63\" X 33.5\", (Colors May Vary), 1 Pack',\n",
       "       'Intex Pool Volleyball Game, 94\" X 25\" X 36\", for Ages 6+, Color may vary',\n",
       "       'Intex Swim Center Family Inflatable Pool, 103\" X 69\" X 22\", for Ages 6+',\n",
       "       'J5 Tactical V1-PRO Flashlight - The Original 300 Lumen Ultra Bright, LED Mini 3 Mode Flashlight',\n",
       "       'K&N 99-5000 Aerosol Recharger Filter Care Service Kit',\n",
       "       'K&N KN-204 Motorcycle/Powersports High Performance Oil Filter',\n",
       "       'KIND Bars, Peanut Butter Dark Chocolate + Protein, Gluten Free, 1.4 Ounce Bars, 12 Count',\n",
       "       'Kalencom Potette Plus Liners, 30 count',\n",
       "       'Keurig, The Original Donut Shop, Regular, Medium Extra Bold, K-Cup packs, 12-Count (Pack of 6)',\n",
       "       'Kiinde Breast Milk Storage Twist Pouch (6 oz - Pack of 80)',\n",
       "       'Kleenex 50606 Hard Roll Towels, 8 x 600ft, 1 3/4\" Core dia, White, 6 Rolls/Carton',\n",
       "       'Kwikset 96870-100 Belleview SmartKey Single Cylinder Handleset with Cove Knob, Venetian Bronze',\n",
       "       'Lamaze Peek-A-Boo Forest Soft Book',\n",
       "       'Land Lakes Mini Moos Creamer, Half and Half Cups, 192 Count',\n",
       "       'Leachco Snoogle Total Body Pillow, Ivory',\n",
       "       'Lifetime 4428 Height Adjustable Folding Utility Table 48 by 24 Inches White Granite',\n",
       "       'Lisle 35260 Plastic Fastener Remover',\n",
       "       \"Little Tikes Jump 'n Slide Bouncer\",\n",
       "       \"Little Tikes Spiralin' Seas Waterpark Play Table\",\n",
       "       'Loctite Blue 242  Threadlocker 6-Milliliter Tube (209728)',\n",
       "       'Loctite Liquid Professional Super Glue  20-Gram Bottle (1365882)',\n",
       "       'M-D Building Products 2311 High Density Foam Tape, 1/2-by-3/4-Inch by 10 feet, Gray',\n",
       "       'MARBLE Hanayama Cast Metal Brain Teaser Puzzle (Level 4)',\n",
       "       'Magic Bullet NutriBullet 12-Piece High-Speed Blender/Mixer System',\n",
       "       'Majestic Pure Lavender Essential Oil, Therapeutic Grade, 4 fl. Oz',\n",
       "       'Manitoba Harvest Hemp Hearts Raw Shelled Hemp Seeds, natural flavor, 1 Pound.',\n",
       "       'MarlJohns Giant Rideable Swan Inflatable Float Toy 75\"',\n",
       "       'Master Lock 265DCCSEN Dual-Function Security Bar',\n",
       "       'Master Lock 2866DATSC Swivel Head Receiver Lock, Chrome',\n",
       "       'Master Lock 5400D Select Access Key Storage Box with Set-Your-Own Combination Lock, 1-Pack',\n",
       "       'Masterbuilt 20070910 30-Inch Black Electric Digital Smoker, Top Controller',\n",
       "       'Maytag UKF8001 Pur Compatible Refrigerator Water Filter by MORE Pure Filters - MPF15090',\n",
       "       'Medela Contact Nipple Shield, Medium',\n",
       "       \"Meguiar's G1016 Smooth Surface Clay Kit\",\n",
       "       'Melissa & Doug On The Go Water Wow Bundle Animals, Alphabet and Numbers Paint',\n",
       "       'Micro Cubebot Brain Teaser Puzzle Multi-Color',\n",
       "       'Midea WHS-65LB1 Compact Single Reversible Door Refrigerator and Freezer',\n",
       "       'Military Zoom 20-140x70mm Binoculars Matte Black',\n",
       "       'Milk-Bone MaroSnacks Dog Treats', 'Mothers Wheel Brush',\n",
       "       'Munchkin Arm & Hammer Diaper Pail Snap, Seal and Toss Refill Bags, 600 Count, 20 Pack',\n",
       "       'Munchkin Miracle 360 Trainer Cup, Green/Blue, 7 Ounce, 2 Count',\n",
       "       'Munchkin Miracle 360 Trainer Cup, Pink/Orange, 7 Ounce, 2 Count',\n",
       "       'NETGEAR CM400 (8x4) Cable Modem DOCSIS 3.0 Certified for Comcast XFINITY, Time Warner Cable, Cox, Charter & more (CM400-1AZNAS)',\n",
       "       'Netgear N300 Wi-Fi DOCSIS 3.0 Cable Modem Router (C3000)',\n",
       "       'Nfinity Backpack One Size Black',\n",
       "       'Nikon COOLPIX S33 Waterproof Digital Camera (Blue)',\n",
       "       'Nikon D3300 24.2 MP CMOS Digital SLR with Auto Focus-S DX NIKKOR 18-55mm f/3.5-5.6G VR II Zoom Lens (Black)',\n",
       "       'Nite Ize Flashflight LED Light Up Flying Disc, Glow in the Dark for Night Games, 185g',\n",
       "       'Nizoral AntiDandruff Shampoo, 7-Ounce Bottles',\n",
       "       'Non-Sterile Graduated Plastic Medicine Cups, 100 Count',\n",
       "       'Nutramax Cosequin DS PLUS MSM Chewable Tablets',\n",
       "       'OWI  14-in-1 Solar Robot', 'OXO Good Grips All-Purpose Squeegee',\n",
       "       'OXO Tot Silicone Tub Drain Stopper- Aqua',\n",
       "       'Olympus Tracker 10x25 Porro Prism Compact & Lightweight Binocular',\n",
       "       'Optimum Nutrition 100% Whey Gold Standard, Double Rich Chocolate, 5 Pound, 80 Ounce',\n",
       "       'Oreck Commercial XL2100RHS 8 Pound Commercial Upright Vacuum, Blue',\n",
       "       'Orgain Organic Protein Plant-Based Powder, Vanilla Bean, 2.03 Pound',\n",
       "       'Pepperell Craft Making Assorted Pom Poms, Standard Colors, 750 Per Package',\n",
       "       'Perrier Sparkling Natural Mineral Water, 16.9-ounce plastic bottles (Pack of 24)',\n",
       "       'Philips Norelco Electric Shaver 2100, S1560/81',\n",
       "       'Philips Norelco HQ8 Dual Precision Replacement Heads',\n",
       "       'Pioneer Auto Mounts Dispenser with 350 Photo Mounting Double Sided Self Adhesive Squares',\n",
       "       'Plastic Beaker Set - 5 Sizes - 50, 100, 250, 500 and 1000ml',\n",
       "       'Plasticolor 003700R01 Star Wars Accordion Sunshade',\n",
       "       'Plews 55001 Lubrimatic Fluid Quart Pump, Fits Standard Quart Bottles',\n",
       "       'Plum Organics Second Blends Variety Pack, 4 Ounce (Pack of 18)',\n",
       "       'Polaris Explorer 12X50 High Powered Monocular - Bright and Clear Range of View - Single Hand Focus - Waterproof, Fogproof - For Bird Watching, or Wildlife - Tripod For Hands Free Viewing - Daytime Use',\n",
       "       'Precious Cat Ultra Premium Clumping Cat Litter',\n",
       "       'Prime-Line Products U 10304 Door Lock Extruded Chain, Satin Nickel',\n",
       "       'Purell 9674-06-ECDECO Advanced  Design Series Hand Sanitizer, 8 oz Bottles (Pack of 4)',\n",
       "       'Quilted Northern Ultra Plush Bath Tissue, 48 Double Rolls (8,448 Sheets)',\n",
       "       'Quilted Northern Ultra Plush, 24 Supreme (90 Regular) Rolls Toilet Paper',\n",
       "       'Rain-X 600001 Windshield Repair Kit',\n",
       "       'Refrigerator Water Filter Fits Whirlpool W10295370A',\n",
       "       'Regalo My Cot Portable Bed, Royal Blue',\n",
       "       'Regalo Swing Down Bedrail, White',\n",
       "       'Remote-Controlled Dog Shock Collar Lifetime Replacement Guarantee - 1200 FT Range - 4 Modes (Shock Light Vibration & Beep) Safe For All Size Dogs (10Lbs - 100Lbs) - Rechargeable & Waterproof.',\n",
       "       'Repel 100 Insect Repellent 4 oz. Pump Spray Single Bottle',\n",
       "       'Replacement Tubing (1 Retail Pack of 2 tubes) for Medela Pump in Style and New Pump in Style Advanced Breast Pump - 100% BPA FREE',\n",
       "       'Roku Streaming Stick (3600R)',\n",
       "       'Rubbermaid Commercial FG631200CLR Space-Saving Container, 12-Quart Capacity',\n",
       "       'Rubbermaid Commercial Oven Thermometer, Stainless Steel, FGTH0550',\n",
       "       'Rubbermaid Easy Find Lids Food Storage Container 42-piece Set',\n",
       "       'SVP Aqua 5500 ( Blue ) 18 MP Dual Screen Waterproof Digital Camera',\n",
       "       'Sabrent Premium 4 Port Silver Aluminum USB 3.0 Hub (30\" cable) for iMac, MacBook, MacBook Pro, MacBook Air, Mac Mini, or any PC [Silver] (HB-MAC3)',\n",
       "       'SafeRest Hypoallergenic Waterproof Queen Size Vinyl Free Mattress Protector',\n",
       "       'Samsung 64GB EVO Class 10 Micro SDXC Card with Adapter up to 48/MB/s (MB-MP64DA/AM)',\n",
       "       'Samsung EP-TA20JWE/ECB-DU4EWE Adaptive Fast Charging Charger for Galaxy S6/Edge/Edge-6/Note 4 with Micro USB Charging Cable - White',\n",
       "       'Samsung Galaxy Tab A 8-Inch Tablet (Wi-Fi)(16 GB, Smoky Titanium)',\n",
       "       'Samsung OEM Original Standard Battery 3220mAh for Galaxy Note 4 - Non-Retail Packaging - Black/Silver (Discontinued by Manufacturer)',\n",
       "       'Samsung Official Genuine 2800mAh OEM Battery for Galaxy S5 without Warranty - Non-Retail Packaging - Black/Silver (Discontinued by Manufacturer)',\n",
       "       'Sassy Developmental Bumpy Ball',\n",
       "       'Sea Foam SF-16 Motor Treatment - 16 oz.',\n",
       "       'Set of 2 Bobbin Box Organizers',\n",
       "       'Seville Classics Bamboo Drawer Organizer Boxes',\n",
       "       'Shibari Intimate Lubricant - Water Based 8oz Bottle',\n",
       "       'Silhouette Temporary Tattoo Paper',\n",
       "       'Simple Green 13421 Pro HD Heavy Duty Cleaner, 1 Gallon Bottle',\n",
       "       'Simple Wishes Hands-Free Breastpump Bra, Pink, X-Small-Large',\n",
       "       'Singer 10-Pack Regular Point Machine Needles Assorted, 4 Size 80/11, 4 Size 90/14 and 2 Size 100/16',\n",
       "       'Singo 60w Laptop Computer Ac Power Supply Chargers and Adapters \"L\" Tip for Apple Macbook Pro 13-inch',\n",
       "       'SmartyPants Kids Complete Gummy Vitamins: Multivitamin, Vitamin D3, B12 (Methylcobalamin), AND Omega 3 DHA / EPA Fish Oil, 120 count',\n",
       "       'Sony DVPSR510H DVD Player (Upscaling)',\n",
       "       'Sony MDRZ7 Hi-Res Stereo Headphones',\n",
       "       \"Stanley 94-248 65-Piece Homeowner's Tool Kit\",\n",
       "       'Streamlight 85177 CR123A Lithium Batteries, 12-Pack',\n",
       "       'Summer Infant Complete Nursery Care Kit, Teal/White',\n",
       "       'Suncast GHW1732 Resin Wicker Trash Hideaway',\n",
       "       'Super Lube 21030 Synthetic Grease (NLGI 2), 3 oz Tube',\n",
       "       'SwissGear SA1908 Black TSA Friendly ScanSmart Laptop Computer Backpack - Fits Most 17 Inch Laptops and Tablets',\n",
       "       'Taste of the Wild Dry Dog Food',\n",
       "       'The North Face Unisex Borealis Backpack',\n",
       "       'Tile (Gen 2) - Phone Finder. Key Finder. Item Finder - 1 Pack',\n",
       "       'Tile TLE-02001 Gen 2 Bluetooth Tracker and Easy-to-use App for Tracking Phone, Key and Other Items',\n",
       "       'Tombow Mono Permanent Adhesive Refills, 3 Pack (62207)',\n",
       "       'Toshiba Chromebook 2 - 2015 Edition (CB35-C3300) Full HD, Backlit Keyboard',\n",
       "       'Totally Bamboo Large Expandable Cutlery Tray & Drawer Organizer 8 Compartments 2 with Adjustable Dimensions Beautiful and Durable Bamboo',\n",
       "       'Under Armour Storm Big Logo IV Backpack',\n",
       "       'ViewSonic VX2452MH 24-Inch LED-Lit LCD Monitor, Full HD 1080p, 2ms, 50M:1 DCR, Game Mode, HDMI/DVI/VGA, VESA',\n",
       "       'Vortex Optics Diamondback 8x42 Roof Prism Binocular',\n",
       "       'WORX WA0010 Replacement 10-Foot Grass Trimmer/Edger Spool Line 6-Pack for WG150, WG151, WG152, WG155, WG165, WG166, WG160, WG167, WG175',\n",
       "       'Walex TOI-91799 Deodorizer',\n",
       "       'Wall Saver for Pressure Gates, 2 Pack',\n",
       "       'Water Sports Inc 861790 Swim Thru Rings, 3 Pack',\n",
       "       'Weber Grill Cleaner Spray - Professional Strength Degreaser - Non Toxic 16 oz Cleanser',\n",
       "       'Wunderbrow Eyebrow Make Up, Brunette',\n",
       "       'XL Watercolor Pad, 9\"X12\" Fold Over',\n",
       "       'Zymox Otic Pet Ear Treatment with Hydrocortisone',\n",
       "       'iPhone 6S Screen Protector, Maxboost Tempered Glass Screen Protector For iPhone 6 6S [3D Touch Compatible] 0.2mm Screen Protection Case Fit 99% Touch Accurate[Lifetime Warranty]- Clear',\n",
       "       'myBaby SoundSpa Portable'], dtype=object)"
      ]
     },
     "execution_count": 140,
     "metadata": {},
     "output_type": "execute_result"
    }
   ],
   "source": [
    "amazon.Product.unique()"
   ]
  },
  {
   "cell_type": "code",
   "execution_count": 143,
   "metadata": {},
   "outputs": [
    {
     "data": {
      "text/plain": [
       "array(['Supplement Warriors', 'Sharp Nutrition', 'speedy tests', ...,\n",
       "       'Serenity Health & Home Decor', 'Tropicaltyphoonllc',\n",
       "       \"Marilyn's Galleria\"], dtype=object)"
      ]
     },
     "execution_count": 143,
     "metadata": {},
     "output_type": "execute_result"
    }
   ],
   "source": [
    "amazon.Vendor.unique()"
   ]
  },
  {
   "cell_type": "code",
   "execution_count": 153,
   "metadata": {},
   "outputs": [
    {
     "data": {
      "text/plain": [
       "Index(['Index', 'Product', 'ScrapedIndex', 'Initial_Rank', 'True_Rank',\n",
       "       'Initial_Price', 'True_Price', 'Vendor', 'Initial_Vendor_Type',\n",
       "       'Initial_Vendor_Price', 'Vendor_Type', 'Vendor_Shipment',\n",
       "       'Vendor_True_Price'],\n",
       "      dtype='object')"
      ]
     },
     "execution_count": 153,
     "metadata": {},
     "output_type": "execute_result"
    }
   ],
   "source": [
    "amazon.columns"
   ]
  },
  {
   "cell_type": "code",
   "execution_count": 189,
   "metadata": {},
   "outputs": [
    {
     "data": {
      "text/html": [
       "<div>\n",
       "<style>\n",
       "    .dataframe thead tr:only-child th {\n",
       "        text-align: right;\n",
       "    }\n",
       "\n",
       "    .dataframe thead th {\n",
       "        text-align: left;\n",
       "    }\n",
       "\n",
       "    .dataframe tbody tr th {\n",
       "        vertical-align: top;\n",
       "    }\n",
       "</style>\n",
       "<table border=\"1\" class=\"dataframe\">\n",
       "  <thead>\n",
       "    <tr style=\"text-align: right;\">\n",
       "      <th></th>\n",
       "      <th>Vendor_Type</th>\n",
       "      <th>True_Rank</th>\n",
       "      <th>Initial_Rank</th>\n",
       "    </tr>\n",
       "    <tr>\n",
       "      <th>ScrapeDate</th>\n",
       "      <th></th>\n",
       "      <th></th>\n",
       "      <th></th>\n",
       "    </tr>\n",
       "  </thead>\n",
       "  <tbody>\n",
       "    <tr>\n",
       "      <th>2016-08-30</th>\n",
       "      <td>Amazon</td>\n",
       "      <td>14</td>\n",
       "      <td>14</td>\n",
       "    </tr>\n",
       "    <tr>\n",
       "      <th>2016-06-15</th>\n",
       "      <td>Amazon</td>\n",
       "      <td>51</td>\n",
       "      <td>45</td>\n",
       "    </tr>\n",
       "    <tr>\n",
       "      <th>2016-06-15</th>\n",
       "      <td>Amazon</td>\n",
       "      <td>50</td>\n",
       "      <td>44</td>\n",
       "    </tr>\n",
       "    <tr>\n",
       "      <th>2016-06-15</th>\n",
       "      <td>Amazon</td>\n",
       "      <td>49</td>\n",
       "      <td>43</td>\n",
       "    </tr>\n",
       "    <tr>\n",
       "      <th>2016-06-15</th>\n",
       "      <td>Amazon</td>\n",
       "      <td>48</td>\n",
       "      <td>63</td>\n",
       "    </tr>\n",
       "    <tr>\n",
       "      <th>2016-06-15</th>\n",
       "      <td>Amazon</td>\n",
       "      <td>47</td>\n",
       "      <td>58</td>\n",
       "    </tr>\n",
       "    <tr>\n",
       "      <th>2016-06-15</th>\n",
       "      <td>Amazon</td>\n",
       "      <td>46</td>\n",
       "      <td>42</td>\n",
       "    </tr>\n",
       "    <tr>\n",
       "      <th>2016-06-15</th>\n",
       "      <td>Amazon</td>\n",
       "      <td>45</td>\n",
       "      <td>57</td>\n",
       "    </tr>\n",
       "    <tr>\n",
       "      <th>2016-06-15</th>\n",
       "      <td>Amazon</td>\n",
       "      <td>44</td>\n",
       "      <td>41</td>\n",
       "    </tr>\n",
       "    <tr>\n",
       "      <th>2016-06-15</th>\n",
       "      <td>Amazon</td>\n",
       "      <td>52</td>\n",
       "      <td>46</td>\n",
       "    </tr>\n",
       "    <tr>\n",
       "      <th>2016-06-26</th>\n",
       "      <td>FBA</td>\n",
       "      <td>1</td>\n",
       "      <td>1</td>\n",
       "    </tr>\n",
       "    <tr>\n",
       "      <th>2016-06-26</th>\n",
       "      <td>FBA</td>\n",
       "      <td>4</td>\n",
       "      <td>4</td>\n",
       "    </tr>\n",
       "    <tr>\n",
       "      <th>2016-06-26</th>\n",
       "      <td>FBA</td>\n",
       "      <td>3</td>\n",
       "      <td>3</td>\n",
       "    </tr>\n",
       "    <tr>\n",
       "      <th>2016-06-26</th>\n",
       "      <td>FBA</td>\n",
       "      <td>9</td>\n",
       "      <td>8</td>\n",
       "    </tr>\n",
       "    <tr>\n",
       "      <th>2016-06-26</th>\n",
       "      <td>FBA</td>\n",
       "      <td>10</td>\n",
       "      <td>9</td>\n",
       "    </tr>\n",
       "    <tr>\n",
       "      <th>2016-06-26</th>\n",
       "      <td>FBA</td>\n",
       "      <td>11</td>\n",
       "      <td>10</td>\n",
       "    </tr>\n",
       "    <tr>\n",
       "      <th>2016-06-26</th>\n",
       "      <td>FBA</td>\n",
       "      <td>1</td>\n",
       "      <td>1</td>\n",
       "    </tr>\n",
       "    <tr>\n",
       "      <th>2016-06-26</th>\n",
       "      <td>FBA</td>\n",
       "      <td>2</td>\n",
       "      <td>2</td>\n",
       "    </tr>\n",
       "    <tr>\n",
       "      <th>2016-06-26</th>\n",
       "      <td>FBA</td>\n",
       "      <td>11</td>\n",
       "      <td>10</td>\n",
       "    </tr>\n",
       "    <tr>\n",
       "      <th>2016-06-26</th>\n",
       "      <td>FBA</td>\n",
       "      <td>11</td>\n",
       "      <td>10</td>\n",
       "    </tr>\n",
       "    <tr>\n",
       "      <th>2016-08-30</th>\n",
       "      <td>Other</td>\n",
       "      <td>2</td>\n",
       "      <td>2</td>\n",
       "    </tr>\n",
       "    <tr>\n",
       "      <th>2016-08-30</th>\n",
       "      <td>Other</td>\n",
       "      <td>1</td>\n",
       "      <td>1</td>\n",
       "    </tr>\n",
       "    <tr>\n",
       "      <th>2016-08-30</th>\n",
       "      <td>Other</td>\n",
       "      <td>1</td>\n",
       "      <td>1</td>\n",
       "    </tr>\n",
       "    <tr>\n",
       "      <th>2016-06-27</th>\n",
       "      <td>Other</td>\n",
       "      <td>10</td>\n",
       "      <td>11</td>\n",
       "    </tr>\n",
       "    <tr>\n",
       "      <th>2016-06-27</th>\n",
       "      <td>Other</td>\n",
       "      <td>9</td>\n",
       "      <td>10</td>\n",
       "    </tr>\n",
       "    <tr>\n",
       "      <th>2016-06-27</th>\n",
       "      <td>Other</td>\n",
       "      <td>8</td>\n",
       "      <td>9</td>\n",
       "    </tr>\n",
       "    <tr>\n",
       "      <th>2016-06-27</th>\n",
       "      <td>Other</td>\n",
       "      <td>8</td>\n",
       "      <td>9</td>\n",
       "    </tr>\n",
       "    <tr>\n",
       "      <th>2016-06-27</th>\n",
       "      <td>Other</td>\n",
       "      <td>6</td>\n",
       "      <td>5</td>\n",
       "    </tr>\n",
       "    <tr>\n",
       "      <th>2016-06-27</th>\n",
       "      <td>Other</td>\n",
       "      <td>7</td>\n",
       "      <td>6</td>\n",
       "    </tr>\n",
       "    <tr>\n",
       "      <th>2016-06-27</th>\n",
       "      <td>Other</td>\n",
       "      <td>5</td>\n",
       "      <td>4</td>\n",
       "    </tr>\n",
       "  </tbody>\n",
       "</table>\n",
       "</div>"
      ],
      "text/plain": [
       "           Vendor_Type  True_Rank  Initial_Rank\n",
       "ScrapeDate                                     \n",
       "2016-08-30      Amazon         14            14\n",
       "2016-06-15      Amazon         51            45\n",
       "2016-06-15      Amazon         50            44\n",
       "2016-06-15      Amazon         49            43\n",
       "2016-06-15      Amazon         48            63\n",
       "2016-06-15      Amazon         47            58\n",
       "2016-06-15      Amazon         46            42\n",
       "2016-06-15      Amazon         45            57\n",
       "2016-06-15      Amazon         44            41\n",
       "2016-06-15      Amazon         52            46\n",
       "2016-06-26         FBA          1             1\n",
       "2016-06-26         FBA          4             4\n",
       "2016-06-26         FBA          3             3\n",
       "2016-06-26         FBA          9             8\n",
       "2016-06-26         FBA         10             9\n",
       "2016-06-26         FBA         11            10\n",
       "2016-06-26         FBA          1             1\n",
       "2016-06-26         FBA          2             2\n",
       "2016-06-26         FBA         11            10\n",
       "2016-06-26         FBA         11            10\n",
       "2016-08-30       Other          2             2\n",
       "2016-08-30       Other          1             1\n",
       "2016-08-30       Other          1             1\n",
       "2016-06-27       Other         10            11\n",
       "2016-06-27       Other          9            10\n",
       "2016-06-27       Other          8             9\n",
       "2016-06-27       Other          8             9\n",
       "2016-06-27       Other          6             5\n",
       "2016-06-27       Other          7             6\n",
       "2016-06-27       Other          5             4"
      ]
     },
     "execution_count": 189,
     "metadata": {},
     "output_type": "execute_result"
    }
   ],
   "source": [
    "Demo = ['Vendor_Type', 'True_Rank', 'Initial_Rank']\n",
    "\n",
    "amazon_demo = amazon.sort_values('Vendor_Type', ascending = True)\n",
    "amazon_demo.groupby('Vendor_Type').head(10)[Demo]"
   ]
  },
  {
   "cell_type": "code",
   "execution_count": 227,
   "metadata": {},
   "outputs": [
    {
     "data": {
      "text/html": [
       "<div>\n",
       "<style>\n",
       "    .dataframe thead tr:only-child th {\n",
       "        text-align: right;\n",
       "    }\n",
       "\n",
       "    .dataframe thead th {\n",
       "        text-align: left;\n",
       "    }\n",
       "\n",
       "    .dataframe tbody tr th {\n",
       "        vertical-align: top;\n",
       "    }\n",
       "</style>\n",
       "<table border=\"1\" class=\"dataframe\">\n",
       "  <thead>\n",
       "    <tr style=\"text-align: right;\">\n",
       "      <th></th>\n",
       "      <th>Vendor_Type</th>\n",
       "      <th>True_Rank</th>\n",
       "      <th>True_Price</th>\n",
       "    </tr>\n",
       "    <tr>\n",
       "      <th>ScrapeDate</th>\n",
       "      <th></th>\n",
       "      <th></th>\n",
       "      <th></th>\n",
       "    </tr>\n",
       "  </thead>\n",
       "  <tbody>\n",
       "    <tr>\n",
       "      <th>2016-08-29</th>\n",
       "      <td>0</td>\n",
       "      <td>1</td>\n",
       "      <td>2.38</td>\n",
       "    </tr>\n",
       "    <tr>\n",
       "      <th>2016-09-02</th>\n",
       "      <td>1</td>\n",
       "      <td>1</td>\n",
       "      <td>2.48</td>\n",
       "    </tr>\n",
       "    <tr>\n",
       "      <th>2016-08-29</th>\n",
       "      <td>0</td>\n",
       "      <td>2</td>\n",
       "      <td>2.50</td>\n",
       "    </tr>\n",
       "    <tr>\n",
       "      <th>2016-08-29</th>\n",
       "      <td>0</td>\n",
       "      <td>2</td>\n",
       "      <td>2.50</td>\n",
       "    </tr>\n",
       "    <tr>\n",
       "      <th>2016-06-27</th>\n",
       "      <td>0</td>\n",
       "      <td>1</td>\n",
       "      <td>2.57</td>\n",
       "    </tr>\n",
       "    <tr>\n",
       "      <th>2016-06-27</th>\n",
       "      <td>0</td>\n",
       "      <td>2</td>\n",
       "      <td>2.59</td>\n",
       "    </tr>\n",
       "    <tr>\n",
       "      <th>2016-06-27</th>\n",
       "      <td>0</td>\n",
       "      <td>2</td>\n",
       "      <td>2.59</td>\n",
       "    </tr>\n",
       "    <tr>\n",
       "      <th>2016-08-29</th>\n",
       "      <td>0</td>\n",
       "      <td>3</td>\n",
       "      <td>2.70</td>\n",
       "    </tr>\n",
       "    <tr>\n",
       "      <th>2016-08-29</th>\n",
       "      <td>0</td>\n",
       "      <td>4</td>\n",
       "      <td>2.93</td>\n",
       "    </tr>\n",
       "    <tr>\n",
       "      <th>2016-08-29</th>\n",
       "      <td>0</td>\n",
       "      <td>5</td>\n",
       "      <td>2.96</td>\n",
       "    </tr>\n",
       "    <tr>\n",
       "      <th>2016-06-21</th>\n",
       "      <td>2</td>\n",
       "      <td>1</td>\n",
       "      <td>2.97</td>\n",
       "    </tr>\n",
       "    <tr>\n",
       "      <th>2016-06-21</th>\n",
       "      <td>2</td>\n",
       "      <td>2</td>\n",
       "      <td>2.99</td>\n",
       "    </tr>\n",
       "    <tr>\n",
       "      <th>2016-06-21</th>\n",
       "      <td>2</td>\n",
       "      <td>3</td>\n",
       "      <td>3.10</td>\n",
       "    </tr>\n",
       "    <tr>\n",
       "      <th>2016-08-29</th>\n",
       "      <td>0</td>\n",
       "      <td>6</td>\n",
       "      <td>3.15</td>\n",
       "    </tr>\n",
       "    <tr>\n",
       "      <th>2016-09-02</th>\n",
       "      <td>1</td>\n",
       "      <td>2</td>\n",
       "      <td>3.36</td>\n",
       "    </tr>\n",
       "    <tr>\n",
       "      <th>2016-06-21</th>\n",
       "      <td>2</td>\n",
       "      <td>4</td>\n",
       "      <td>3.38</td>\n",
       "    </tr>\n",
       "    <tr>\n",
       "      <th>2016-08-29</th>\n",
       "      <td>2</td>\n",
       "      <td>1</td>\n",
       "      <td>3.78</td>\n",
       "    </tr>\n",
       "    <tr>\n",
       "      <th>2016-08-29</th>\n",
       "      <td>2</td>\n",
       "      <td>1</td>\n",
       "      <td>3.78</td>\n",
       "    </tr>\n",
       "    <tr>\n",
       "      <th>2016-08-29</th>\n",
       "      <td>2</td>\n",
       "      <td>1</td>\n",
       "      <td>3.78</td>\n",
       "    </tr>\n",
       "    <tr>\n",
       "      <th>2016-06-20</th>\n",
       "      <td>1</td>\n",
       "      <td>1</td>\n",
       "      <td>3.83</td>\n",
       "    </tr>\n",
       "    <tr>\n",
       "      <th>2016-06-20</th>\n",
       "      <td>1</td>\n",
       "      <td>2</td>\n",
       "      <td>3.85</td>\n",
       "    </tr>\n",
       "    <tr>\n",
       "      <th>2016-08-29</th>\n",
       "      <td>0</td>\n",
       "      <td>7</td>\n",
       "      <td>3.86</td>\n",
       "    </tr>\n",
       "    <tr>\n",
       "      <th>2016-09-02</th>\n",
       "      <td>1</td>\n",
       "      <td>3</td>\n",
       "      <td>3.95</td>\n",
       "    </tr>\n",
       "    <tr>\n",
       "      <th>2016-06-27</th>\n",
       "      <td>2</td>\n",
       "      <td>1</td>\n",
       "      <td>3.96</td>\n",
       "    </tr>\n",
       "    <tr>\n",
       "      <th>2016-06-27</th>\n",
       "      <td>2</td>\n",
       "      <td>1</td>\n",
       "      <td>3.96</td>\n",
       "    </tr>\n",
       "    <tr>\n",
       "      <th>2016-06-27</th>\n",
       "      <td>2</td>\n",
       "      <td>1</td>\n",
       "      <td>3.96</td>\n",
       "    </tr>\n",
       "    <tr>\n",
       "      <th>2016-06-27</th>\n",
       "      <td>2</td>\n",
       "      <td>1</td>\n",
       "      <td>3.96</td>\n",
       "    </tr>\n",
       "    <tr>\n",
       "      <th>2016-06-14</th>\n",
       "      <td>1</td>\n",
       "      <td>1</td>\n",
       "      <td>3.99</td>\n",
       "    </tr>\n",
       "    <tr>\n",
       "      <th>2016-06-21</th>\n",
       "      <td>2</td>\n",
       "      <td>5</td>\n",
       "      <td>4.10</td>\n",
       "    </tr>\n",
       "    <tr>\n",
       "      <th>2016-06-20</th>\n",
       "      <td>1</td>\n",
       "      <td>3</td>\n",
       "      <td>4.17</td>\n",
       "    </tr>\n",
       "    <tr>\n",
       "      <th>...</th>\n",
       "      <td>...</td>\n",
       "      <td>...</td>\n",
       "      <td>...</td>\n",
       "    </tr>\n",
       "    <tr>\n",
       "      <th>2016-06-19</th>\n",
       "      <td>1</td>\n",
       "      <td>8</td>\n",
       "      <td>571.12</td>\n",
       "    </tr>\n",
       "    <tr>\n",
       "      <th>2016-06-19</th>\n",
       "      <td>1</td>\n",
       "      <td>9</td>\n",
       "      <td>571.53</td>\n",
       "    </tr>\n",
       "    <tr>\n",
       "      <th>2016-06-19</th>\n",
       "      <td>1</td>\n",
       "      <td>10</td>\n",
       "      <td>572.02</td>\n",
       "    </tr>\n",
       "    <tr>\n",
       "      <th>2016-06-19</th>\n",
       "      <td>1</td>\n",
       "      <td>11</td>\n",
       "      <td>597.98</td>\n",
       "    </tr>\n",
       "    <tr>\n",
       "      <th>2016-08-30</th>\n",
       "      <td>1</td>\n",
       "      <td>5</td>\n",
       "      <td>599.00</td>\n",
       "    </tr>\n",
       "    <tr>\n",
       "      <th>2016-08-30</th>\n",
       "      <td>1</td>\n",
       "      <td>6</td>\n",
       "      <td>603.70</td>\n",
       "    </tr>\n",
       "    <tr>\n",
       "      <th>2016-07-08</th>\n",
       "      <td>1</td>\n",
       "      <td>2</td>\n",
       "      <td>625.00</td>\n",
       "    </tr>\n",
       "    <tr>\n",
       "      <th>2016-07-08</th>\n",
       "      <td>1</td>\n",
       "      <td>3</td>\n",
       "      <td>629.00</td>\n",
       "    </tr>\n",
       "    <tr>\n",
       "      <th>2016-07-08</th>\n",
       "      <td>1</td>\n",
       "      <td>4</td>\n",
       "      <td>640.83</td>\n",
       "    </tr>\n",
       "    <tr>\n",
       "      <th>2016-07-08</th>\n",
       "      <td>1</td>\n",
       "      <td>4</td>\n",
       "      <td>640.83</td>\n",
       "    </tr>\n",
       "    <tr>\n",
       "      <th>2016-07-08</th>\n",
       "      <td>1</td>\n",
       "      <td>4</td>\n",
       "      <td>640.83</td>\n",
       "    </tr>\n",
       "    <tr>\n",
       "      <th>2016-07-08</th>\n",
       "      <td>1</td>\n",
       "      <td>5</td>\n",
       "      <td>646.49</td>\n",
       "    </tr>\n",
       "    <tr>\n",
       "      <th>2016-08-30</th>\n",
       "      <td>1</td>\n",
       "      <td>7</td>\n",
       "      <td>646.95</td>\n",
       "    </tr>\n",
       "    <tr>\n",
       "      <th>2016-07-08</th>\n",
       "      <td>1</td>\n",
       "      <td>6</td>\n",
       "      <td>655.49</td>\n",
       "    </tr>\n",
       "    <tr>\n",
       "      <th>2016-07-08</th>\n",
       "      <td>1</td>\n",
       "      <td>7</td>\n",
       "      <td>660.89</td>\n",
       "    </tr>\n",
       "    <tr>\n",
       "      <th>2016-07-08</th>\n",
       "      <td>1</td>\n",
       "      <td>8</td>\n",
       "      <td>678.00</td>\n",
       "    </tr>\n",
       "    <tr>\n",
       "      <th>2016-07-08</th>\n",
       "      <td>1</td>\n",
       "      <td>9</td>\n",
       "      <td>689.95</td>\n",
       "    </tr>\n",
       "    <tr>\n",
       "      <th>2016-07-08</th>\n",
       "      <td>1</td>\n",
       "      <td>10</td>\n",
       "      <td>691.82</td>\n",
       "    </tr>\n",
       "    <tr>\n",
       "      <th>2016-08-30</th>\n",
       "      <td>2</td>\n",
       "      <td>1</td>\n",
       "      <td>698.00</td>\n",
       "    </tr>\n",
       "    <tr>\n",
       "      <th>2016-08-30</th>\n",
       "      <td>2</td>\n",
       "      <td>1</td>\n",
       "      <td>698.00</td>\n",
       "    </tr>\n",
       "    <tr>\n",
       "      <th>2016-08-30</th>\n",
       "      <td>2</td>\n",
       "      <td>1</td>\n",
       "      <td>698.00</td>\n",
       "    </tr>\n",
       "    <tr>\n",
       "      <th>2016-08-30</th>\n",
       "      <td>2</td>\n",
       "      <td>1</td>\n",
       "      <td>698.00</td>\n",
       "    </tr>\n",
       "    <tr>\n",
       "      <th>2016-08-30</th>\n",
       "      <td>2</td>\n",
       "      <td>2</td>\n",
       "      <td>706.11</td>\n",
       "    </tr>\n",
       "    <tr>\n",
       "      <th>2016-08-30</th>\n",
       "      <td>2</td>\n",
       "      <td>2</td>\n",
       "      <td>706.11</td>\n",
       "    </tr>\n",
       "    <tr>\n",
       "      <th>2016-08-30</th>\n",
       "      <td>2</td>\n",
       "      <td>2</td>\n",
       "      <td>706.11</td>\n",
       "    </tr>\n",
       "    <tr>\n",
       "      <th>2016-08-30</th>\n",
       "      <td>2</td>\n",
       "      <td>2</td>\n",
       "      <td>706.11</td>\n",
       "    </tr>\n",
       "    <tr>\n",
       "      <th>2016-07-08</th>\n",
       "      <td>1</td>\n",
       "      <td>11</td>\n",
       "      <td>711.82</td>\n",
       "    </tr>\n",
       "    <tr>\n",
       "      <th>2016-06-19</th>\n",
       "      <td>1</td>\n",
       "      <td>12</td>\n",
       "      <td>757.99</td>\n",
       "    </tr>\n",
       "    <tr>\n",
       "      <th>2016-06-19</th>\n",
       "      <td>1</td>\n",
       "      <td>13</td>\n",
       "      <td>889.89</td>\n",
       "    </tr>\n",
       "    <tr>\n",
       "      <th>2016-08-30</th>\n",
       "      <td>2</td>\n",
       "      <td>3</td>\n",
       "      <td>931.80</td>\n",
       "    </tr>\n",
       "  </tbody>\n",
       "</table>\n",
       "<p>6787 rows × 3 columns</p>\n",
       "</div>"
      ],
      "text/plain": [
       "           Vendor_Type  True_Rank  True_Price\n",
       "ScrapeDate                                   \n",
       "2016-08-29           0          1        2.38\n",
       "2016-09-02           1          1        2.48\n",
       "2016-08-29           0          2        2.50\n",
       "2016-08-29           0          2        2.50\n",
       "2016-06-27           0          1        2.57\n",
       "2016-06-27           0          2        2.59\n",
       "2016-06-27           0          2        2.59\n",
       "2016-08-29           0          3        2.70\n",
       "2016-08-29           0          4        2.93\n",
       "2016-08-29           0          5        2.96\n",
       "2016-06-21           2          1        2.97\n",
       "2016-06-21           2          2        2.99\n",
       "2016-06-21           2          3        3.10\n",
       "2016-08-29           0          6        3.15\n",
       "2016-09-02           1          2        3.36\n",
       "2016-06-21           2          4        3.38\n",
       "2016-08-29           2          1        3.78\n",
       "2016-08-29           2          1        3.78\n",
       "2016-08-29           2          1        3.78\n",
       "2016-06-20           1          1        3.83\n",
       "2016-06-20           1          2        3.85\n",
       "2016-08-29           0          7        3.86\n",
       "2016-09-02           1          3        3.95\n",
       "2016-06-27           2          1        3.96\n",
       "2016-06-27           2          1        3.96\n",
       "2016-06-27           2          1        3.96\n",
       "2016-06-27           2          1        3.96\n",
       "2016-06-14           1          1        3.99\n",
       "2016-06-21           2          5        4.10\n",
       "2016-06-20           1          3        4.17\n",
       "...                ...        ...         ...\n",
       "2016-06-19           1          8      571.12\n",
       "2016-06-19           1          9      571.53\n",
       "2016-06-19           1         10      572.02\n",
       "2016-06-19           1         11      597.98\n",
       "2016-08-30           1          5      599.00\n",
       "2016-08-30           1          6      603.70\n",
       "2016-07-08           1          2      625.00\n",
       "2016-07-08           1          3      629.00\n",
       "2016-07-08           1          4      640.83\n",
       "2016-07-08           1          4      640.83\n",
       "2016-07-08           1          4      640.83\n",
       "2016-07-08           1          5      646.49\n",
       "2016-08-30           1          7      646.95\n",
       "2016-07-08           1          6      655.49\n",
       "2016-07-08           1          7      660.89\n",
       "2016-07-08           1          8      678.00\n",
       "2016-07-08           1          9      689.95\n",
       "2016-07-08           1         10      691.82\n",
       "2016-08-30           2          1      698.00\n",
       "2016-08-30           2          1      698.00\n",
       "2016-08-30           2          1      698.00\n",
       "2016-08-30           2          1      698.00\n",
       "2016-08-30           2          2      706.11\n",
       "2016-08-30           2          2      706.11\n",
       "2016-08-30           2          2      706.11\n",
       "2016-08-30           2          2      706.11\n",
       "2016-07-08           1         11      711.82\n",
       "2016-06-19           1         12      757.99\n",
       "2016-06-19           1         13      889.89\n",
       "2016-08-30           2          3      931.80\n",
       "\n",
       "[6787 rows x 3 columns]"
      ]
     },
     "execution_count": 227,
     "metadata": {},
     "output_type": "execute_result"
    }
   ],
   "source": [
    "Demo = ['Vendor_Type', 'True_Rank', 'True_Price']\n",
    "\n",
    "amazon_demo = amazon.sort_values('True_Price', ascending = True)\n",
    "amazon_demo.groupby('True_Price').head(10)[Demo]"
   ]
  },
  {
   "cell_type": "markdown",
   "metadata": {},
   "source": [
    "<a id=\"Data Analysis\"></a>\n",
    "### Data Analysis"
   ]
  },
  {
   "cell_type": "code",
   "execution_count": 321,
   "metadata": {},
   "outputs": [
    {
     "data": {
      "image/png": "[encoded data removed]",
      "text/plain": [
       "<matplotlib.figure.Figure at 0x1a29012978>"
      ]
     },
     "metadata": {},
     "output_type": "display_data"
    },
    {
     "data": {
      "image/png": "[encoded data removed]",
      "text/plain": [
       "<matplotlib.figure.Figure at 0x1a23fbea90>"
      ]
     },
     "metadata": {},
     "output_type": "display_data"
    },
    {
     "data": {
      "image/png": "[encoded data removed]",
      "text/plain": [
       "<matplotlib.figure.Figure at 0x1a1f64ee48>"
      ]
     },
     "metadata": {},
     "output_type": "display_data"
    }
   ],
   "source": [
    "import seaborn as sns\n",
    "import matplotlib.pyplot as plt\n",
    "% matplotlib inline\n",
    "\n",
    "sns.lmplot(x='Initial_Vendor_Price', y='Vendor_True_Price', data=amazon)\n",
    "plt.show()\n",
    "sns.lmplot(x='Initial_Rank', y='True_Rank', data=amazon)\n",
    "plt.show()\n",
    "sns.lmplot(x='Initial_Price', y='True_Price', data=amazon);\n",
    "\n",
    "plt.annotate('[ProPublica https://www.propublica.org/datastore/dataset/amazon-pricing-algorithm-data-set]', \n",
    "             (-0.1,-0.1),\n",
    "(-10,-10), fontsize=8, xycoords='axes fraction', textcoords='offset points', va='top');"
   ]
  },
  {
   "cell_type": "code",
   "execution_count": 322,
   "metadata": {},
   "outputs": [
    {
     "data": {
      "image/png": "[encoded data removed]",
      "text/plain": [
       "<matplotlib.figure.Figure at 0x1a24048630>"
      ]
     },
     "metadata": {},
     "output_type": "display_data"
    }
   ],
   "source": [
    "sns.lmplot(x = 'Initial_Price', \n",
    "           y = 'True_Price', \n",
    "           data = amazon,\n",
    "           aspect = 2.5,\n",
    "           scatter_kws = {'alpha' : 0.2}\n",
    "          );\n",
    "plt.annotate('[ProPublica https://www.propublica.org/datastore/dataset/amazon-pricing-algorithm-data-set]', \n",
    "             (-0.1,-0.1), (-10,-10), fontsize=8, xycoords='axes fraction', textcoords='offset points', va='top');"
   ]
  },
  {
   "cell_type": "code",
   "execution_count": 323,
   "metadata": {},
   "outputs": [
    {
     "data": {
      "image/png": "[encoded data removed]",
      "text/plain": [
       "<matplotlib.figure.Figure at 0x1a1e8030b8>"
      ]
     },
     "metadata": {},
     "output_type": "display_data"
    }
   ],
   "source": [
    "sns.lmplot(x = 'Initial_Rank', \n",
    "           y = 'True_Rank', \n",
    "           data = amazon,\n",
    "           aspect = 2.5,\n",
    "           scatter_kws = {'alpha' : 0.2}\n",
    "          );\n",
    "\n",
    "plt.annotate('[ProPublica https://www.propublica.org/datastore/dataset/amazon-pricing-algorithm-data-set]', \n",
    "             (-0.1,-0.1), (-10,-10), fontsize=8, xycoords='axes fraction', textcoords='offset points', va='top');"
   ]
  },
  {
   "cell_type": "markdown",
   "metadata": {
    "collapsed": true
   },
   "source": [
    "<a id=\"Linear Regression Analysis\"></a>\n",
    "### Linear Regression Analysis"
   ]
  },
  {
   "cell_type": "code",
   "execution_count": 228,
   "metadata": {},
   "outputs": [
    {
     "data": {
      "text/plain": [
       "Index(['Index', 'Product', 'ScrapedIndex', 'Initial_Rank', 'True_Rank',\n",
       "       'Initial_Price', 'True_Price', 'Vendor', 'Initial_Vendor_Type',\n",
       "       'Initial_Vendor_Price', 'Vendor_Type', 'Vendor_Shipment',\n",
       "       'Vendor_True_Price', 'prediction'],\n",
       "      dtype='object')"
      ]
     },
     "execution_count": 228,
     "metadata": {},
     "output_type": "execute_result"
    }
   ],
   "source": [
    "amazon.columns"
   ]
  },
  {
   "cell_type": "code",
   "execution_count": 245,
   "metadata": {},
   "outputs": [
    {
     "data": {
      "text/plain": [
       "Index                     int64\n",
       "Product                  object\n",
       "ScrapedIndex              int64\n",
       "Initial_Rank              int64\n",
       "True_Rank                 int64\n",
       "Initial_Price           float64\n",
       "True_Price              float64\n",
       "Vendor                   object\n",
       "Initial_Vendor_Type      object\n",
       "Initial_Vendor_Price    float64\n",
       "Vendor_Type              object\n",
       "Vendor_Shipment          object\n",
       "Vendor_True_Price       float64\n",
       "prediction              float64\n",
       "dtype: object"
      ]
     },
     "execution_count": 245,
     "metadata": {},
     "output_type": "execute_result"
    }
   ],
   "source": [
    "amazon.dtypes"
   ]
  },
  {
   "cell_type": "code",
   "execution_count": 260,
   "metadata": {
    "collapsed": true
   },
   "outputs": [],
   "source": [
    "Vendor_Type_Replace = {'Other':'0', 'Amazon':'1', 'FBA':'2'}\n",
    "\n",
    "amazon['Vendor_Type'].replace(Vendor_Type_Replace, inplace=True)"
   ]
  },
  {
   "cell_type": "code",
   "execution_count": 261,
   "metadata": {},
   "outputs": [],
   "source": [
    "from sklearn.linear_model import LinearRegression"
   ]
  },
  {
   "cell_type": "code",
   "execution_count": 271,
   "metadata": {},
   "outputs": [
    {
     "data": {
      "text/plain": [
       "LinearRegression(copy_X=True, fit_intercept=True, n_jobs=1, normalize=False)"
      ]
     },
     "execution_count": 271,
     "metadata": {},
     "output_type": "execute_result"
    }
   ],
   "source": [
    "lr = LinearRegression()\n",
    "\n",
    "X = amazon.loc[:, ['Vendor_Type']]\n",
    "y = amazon.loc[:, '['Vendor_Type']']\n",
    "\n",
    "lr.fit(X,y)"
   ]
  },
  {
   "cell_type": "code",
   "execution_count": 272,
   "metadata": {},
   "outputs": [],
   "source": [
    "amazon.loc[:, 'prediction'] = lr.predict(X)"
   ]
  },
  {
   "cell_type": "code",
   "execution_count": 324,
   "metadata": {},
   "outputs": [
    {
     "data": {
      "image/png": "[encoded data removed]",
      "text/plain": [
       "<matplotlib.figure.Figure at 0x1a1ed77320>"
      ]
     },
     "metadata": {},
     "output_type": "display_data"
    }
   ],
   "source": [
    "fig, ax = plt.subplots()\n",
    "amazon.plot(kind = 'scatter', x = 'True_Price', y='prediction', ax=ax, alpha=0.2);\n",
    "\n",
    "plt.annotate('[ProPublica https://www.propublica.org/datastore/dataset/amazon-pricing-algorithm-data-set]', \n",
    "             (-0.1,-0.1), (-10,-10), fontsize=8, xycoords='axes fraction', textcoords='offset points', va='top');"
   ]
  },
  {
   "cell_type": "code",
   "execution_count": 287,
   "metadata": {},
   "outputs": [
    {
     "data": {
      "text/plain": [
       "LinearRegression(copy_X=True, fit_intercept=True, n_jobs=1, normalize=False)"
      ]
     },
     "execution_count": 287,
     "metadata": {},
     "output_type": "execute_result"
    }
   ],
   "source": [
    "lr = LinearRegression()\n",
    "\n",
    "X = amazon.loc[:, ['Vendor_True_Price']]\n",
    "y = amazon.loc[:, 'True_Price']\n",
    "\n",
    "lr.fit(X,y)"
   ]
  },
  {
   "cell_type": "code",
   "execution_count": 288,
   "metadata": {
    "collapsed": true
   },
   "outputs": [],
   "source": [
    "amazon.loc[:, 'prediction'] = lr.predict(X)"
   ]
  },
  {
   "cell_type": "code",
   "execution_count": 325,
   "metadata": {},
   "outputs": [
    {
     "data": {
      "image/png": "[encoded data removed]",
      "text/plain": [
       "<matplotlib.figure.Figure at 0x1a20e23b70>"
      ]
     },
     "metadata": {},
     "output_type": "display_data"
    }
   ],
   "source": [
    "fig, ax = plt.subplots()\n",
    "amazon.plot(kind = 'scatter', x = 'True_Price', y='prediction', ax=ax, alpha=0.2)\n",
    "ax.plot([0, 800], [0, 800], 'r');\n",
    "\n",
    "plt.annotate('[ProPublica https://www.propublica.org/datastore/dataset/amazon-pricing-algorithm-data-set]', \n",
    "             (-0.1,-0.1), (-10,-10), fontsize=8, xycoords='axes fraction', textcoords='offset points', va='top');"
   ]
  },
  {
   "cell_type": "code",
   "execution_count": null,
   "metadata": {
    "collapsed": true
   },
   "outputs": [],
   "source": []
  }
 ],
 "metadata": {
  "kernelspec": {
   "display_name": "Python 3",
   "language": "python",
   "name": "python3"
  },
  "language_info": {
   "codemirror_mode": {
    "name": "ipython",
    "version": 3
   },
   "file_extension": ".py",
   "mimetype": "text/x-python",
   "name": "python",
   "nbconvert_exporter": "python",
   "pygments_lexer": "ipython3",
   "version": "3.6.3"
  }
 },
 "nbformat": 4,
 "nbformat_minor": 2
}
